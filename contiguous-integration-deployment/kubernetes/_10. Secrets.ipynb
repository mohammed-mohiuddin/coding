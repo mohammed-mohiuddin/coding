{
 "cells": [
  {
   "cell_type": "code",
   "execution_count": 3,
   "metadata": {},
   "outputs": [
    {
     "name": "stdout",
     "output_type": "stream",
     "text": [
      "apiVersion: v1\r\n",
      "kind: Service\r\n",
      "metadata:\r\n",
      "  name: wordpress\r\n",
      "  labels:\r\n",
      "    app: wordpress\r\n",
      "spec:\r\n",
      "  ports:\r\n",
      "    - port: 80\r\n",
      "  selector:\r\n",
      "    app: wordpress\r\n",
      "    tier: frontend\r\n",
      "  type: LoadBalancer\r\n",
      "---\r\n",
      "apiVersion: v1\r\n",
      "kind: PersistentVolumeClaim\r\n",
      "metadata:\r\n",
      "  name: wp-pv-claim\r\n",
      "  labels:\r\n",
      "    app: wordpress\r\n",
      "spec:\r\n",
      "  accessModes:\r\n",
      "    - ReadWriteOnce\r\n",
      "  resources:\r\n",
      "    requests:\r\n",
      "      storage: 20Gi\r\n",
      "---\r\n",
      "apiVersion: apps/v1beta2 # for versions before 1.8.0 use apps/v1beta1\r\n",
      "kind: Deployment\r\n",
      "metadata:\r\n",
      "  name: wordpress\r\n",
      "  labels:\r\n",
      "    app: wordpress\r\n",
      "spec:\r\n",
      "  selector:\r\n",
      "    matchLabels:\r\n",
      "      app: wordpress\r\n",
      "      tier: frontend\r\n",
      "  strategy:\r\n",
      "    type: Recreate\r\n",
      "  template:\r\n",
      "    metadata:\r\n",
      "      labels:\r\n",
      "        app: wordpress\r\n",
      "        tier: frontend\r\n",
      "    spec:\r\n",
      "      containers:\r\n",
      "      - image: wordpress:4.8-apache\r\n",
      "        name: wordpress\r\n",
      "        env:\r\n",
      "        - name: WORDPRESS_DB_HOST\r\n",
      "          value: wordpress-mysql\r\n",
      "        - name: WORDPRESS_DB_PASSWORD\r\n",
      "          value: PASSWORDS_IN_PLAIN_TEXT_ARE_BAD_WE_WILL_SHOW_SOMETHING_MORE_SECURE_LATER\r\n",
      "        ports:\r\n",
      "        - containerPort: 80\r\n",
      "          name: wordpress\r\n",
      "        volumeMounts:\r\n",
      "        - name: wordpress-persistent-storage\r\n",
      "          mountPath: /var/www/html\r\n",
      "      volumes:\r\n",
      "      - name: wordpress-persistent-storage\r\n",
      "        persistentVolumeClaim:\r\n",
      "          claimName: wp-pv-claim\r\n"
     ]
    }
   ],
   "source": [
    "!cat wordpress-deployment.yaml"
   ]
  },
  {
   "cell_type": "code",
   "execution_count": 4,
   "metadata": {},
   "outputs": [
    {
     "name": "stdout",
     "output_type": "stream",
     "text": [
      "          value: PASSWORDS_IN_PLAIN_TEXT_ARE_BAD_WE_WILL_SHOW_SOMETHING_MORE_SECURE_LATER\r\n"
     ]
    }
   ],
   "source": [
    "!cat wordpress-deployment.yaml | grep PASSWORDS"
   ]
  },
  {
   "cell_type": "code",
   "execution_count": 5,
   "metadata": {},
   "outputs": [
    {
     "name": "stdout",
     "output_type": "stream",
     "text": [
      "secret/mysql-pass created\r\n"
     ]
    }
   ],
   "source": [
    "!kubectl create secret generic mysql-pass \\\n",
    "--from-literal=password=AMuchBetterWayToStoreAPassword"
   ]
  },
  {
   "cell_type": "code",
   "execution_count": 6,
   "metadata": {},
   "outputs": [
    {
     "name": "stdout",
     "output_type": "stream",
     "text": [
      "NAME                  TYPE                                  DATA      AGE\r\n",
      "default-token-qh4bq   kubernetes.io/service-account-token   3         1d\r\n",
      "mysql-pass            Opaque                                1         56s\r\n"
     ]
    }
   ],
   "source": [
    "!kubectl get secret"
   ]
  },
  {
   "cell_type": "markdown",
   "metadata": {},
   "source": [
    "In the abckground, i have changed the mysql and wordpress yaml files to include the env password using secrets. Basically i have added the following lines \n",
    "\n",
    "    valueFrom:\n",
    "     secretKeyRef:\n",
    "       name: mysql-pass\n",
    "       key: password\n",
    "       \n",
    "in places of env variable WORDPRESS_DB_PASSWORD and MYSQL_ROOT_PASSWORD"
   ]
  },
  {
   "cell_type": "markdown",
   "metadata": {},
   "source": [
    "We shall restart the services wordpress and mysql "
   ]
  },
  {
   "cell_type": "code",
   "execution_count": 13,
   "metadata": {},
   "outputs": [
    {
     "name": "stdout",
     "output_type": "stream",
     "text": [
      "Warning: kubectl apply should be used on resource created by either kubectl create --save-config or kubectl apply\r\n",
      "service/wordpress-mysql configured\r\n",
      "Warning: kubectl apply should be used on resource created by either kubectl create --save-config or kubectl apply\r\n",
      "persistentvolumeclaim/mysql-pv-claim configured\r\n",
      "error: error validating \"./mysql-deployment.yaml\": error validating data: ValidationError(Deployment.spec.template.spec.containers[0].env[0].value): invalid type for io.k8s.api.core.v1.EnvVar.value: got \"map\", expected \"string\"; if you choose to ignore these errors, turn validation off with --validate=false\r\n"
     ]
    }
   ],
   "source": [
    "!kubectl apply -f ./mysql-deployment.yaml"
   ]
  },
  {
   "cell_type": "code",
   "execution_count": 14,
   "metadata": {},
   "outputs": [
    {
     "name": "stdout",
     "output_type": "stream",
     "text": [
      "service/wordpress unchanged\r\n",
      "persistentvolumeclaim/wp-pv-claim unchanged\r\n",
      "error: error validating \"./wordpress-deployment.yaml\": error validating data: ValidationError(Deployment.spec.template.spec.containers[0].env[1].value): invalid type for io.k8s.api.core.v1.EnvVar.value: got \"map\", expected \"string\"; if you choose to ignore these errors, turn validation off with --validate=false\r\n"
     ]
    }
   ],
   "source": [
    "!kubectl apply -f ./wordpress-deployment.yaml"
   ]
  },
  {
   "cell_type": "code",
   "execution_count": 16,
   "metadata": {},
   "outputs": [
    {
     "name": "stdout",
     "output_type": "stream",
     "text": [
      "Error from server (NotFound): deployments.extensions \"wordpress\" not found\r\n"
     ]
    }
   ],
   "source": [
    "!kubectl describe deployment wordpress"
   ]
  },
  {
   "cell_type": "markdown",
   "metadata": {},
   "source": [
    "#### Some commands used in this notebook\n",
    "\n",
    "    kubectl create secret generic db-user-pass --from-file=./username.txt     --from-file=./password.txt\n",
    "    kubectl create secret generic mysql-pass --from-literal     password=PASSWORDS_IN_PLAIN_TEXT_ARE_BAD_WE_WILL_SHOW_SOMETHING_MORE_SECURE_LATER\n",
    "    kubectl get secret\n",
    " \n",
    "    kubectl apply -f mysql-deployment.yaml\n",
    "    kubectl apply -f wordpress-deployment.yaml\n",
    "    minikube service wordpress --url"
   ]
  },
  {
   "cell_type": "code",
   "execution_count": null,
   "metadata": {},
   "outputs": [],
   "source": []
  }
 ],
 "metadata": {
  "kernelspec": {
   "display_name": "Python 3",
   "language": "python",
   "name": "python3"
  },
  "language_info": {
   "codemirror_mode": {
    "name": "ipython",
    "version": 3
   },
   "file_extension": ".py",
   "mimetype": "text/x-python",
   "name": "python",
   "nbconvert_exporter": "python",
   "pygments_lexer": "ipython3",
   "version": "3.6.5"
  }
 },
 "nbformat": 4,
 "nbformat_minor": 2
}
