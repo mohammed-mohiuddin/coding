{
 "cells": [
  {
   "cell_type": "code",
   "execution_count": 1,
   "metadata": {},
   "outputs": [
    {
     "name": "stdout",
     "output_type": "stream",
     "text": [
      "apiVersion: v1\r\n",
      "kind: ResourceQuota\r\n",
      "metadata:\r\n",
      "  name: compute-resources\r\n",
      "spec:\r\n",
      "  hard:\r\n",
      "    limits.cpu: \"400m\""
     ]
    }
   ],
   "source": [
    "!cat cpu-limits.yaml"
   ]
  },
  {
   "cell_type": "code",
   "execution_count": 2,
   "metadata": {},
   "outputs": [
    {
     "name": "stdout",
     "output_type": "stream",
     "text": [
      "apiVersion: apps/v1beta2\r\n",
      "kind: Deployment\r\n",
      "metadata:\r\n",
      "  name: tomcat-deployment\r\n",
      "spec:\r\n",
      "  selector:\r\n",
      "    matchLabels:\r\n",
      "      app: tomcat\r\n",
      "  replicas: 3\r\n",
      "  template:\r\n",
      "    metadata:\r\n",
      "      labels:\r\n",
      "        app: tomcat\r\n",
      "    spec:\r\n",
      "      containers:\r\n",
      "      - name: tomcat\r\n",
      "        image: tomcat:9.0\r\n",
      "        ports:\r\n",
      "        - containerPort: 8080\r\n",
      "        resources:\r\n",
      "          limits:\r\n",
      "            cpu: \"200m\""
     ]
    }
   ],
   "source": [
    "!cat tomcat-deployments.yaml"
   ]
  },
  {
   "cell_type": "code",
   "execution_count": 3,
   "metadata": {},
   "outputs": [
    {
     "name": "stdout",
     "output_type": "stream",
     "text": [
      "namespace/cpu-limited-tomcat created\r\n"
     ]
    }
   ],
   "source": [
    "!kubectl create namespace cpu-limited-tomcat"
   ]
  },
  {
   "cell_type": "code",
   "execution_count": 4,
   "metadata": {},
   "outputs": [
    {
     "name": "stdout",
     "output_type": "stream",
     "text": [
      "resourcequota/compute-resources created\n"
     ]
    }
   ],
   "source": [
    "%%bash\n",
    "kubectl create -f ./cpu-limits.yaml --namespace=cpu-limited-tomcat"
   ]
  },
  {
   "cell_type": "code",
   "execution_count": 5,
   "metadata": {},
   "outputs": [
    {
     "name": "stdout",
     "output_type": "stream",
     "text": [
      "NAME                CREATED AT\r\n",
      "compute-resources   2018-09-12T14:47:12Z\r\n"
     ]
    }
   ],
   "source": [
    "!kubectl get resourcequota --namespace=cpu-limited-tomcat"
   ]
  },
  {
   "cell_type": "code",
   "execution_count": 6,
   "metadata": {},
   "outputs": [
    {
     "name": "stdout",
     "output_type": "stream",
     "text": [
      "deployment.apps/tomcat-deployment created\r\n"
     ]
    }
   ],
   "source": [
    "!kubectl apply -f ./tomcat-deployments.yaml --namespace=cpu-limited-tomcat"
   ]
  },
  {
   "cell_type": "code",
   "execution_count": 9,
   "metadata": {},
   "outputs": [
    {
     "name": "stdout",
     "output_type": "stream",
     "text": [
      "Name:                   tomcat-deployment\r\n",
      "Namespace:              cpu-limited-tomcat\r\n",
      "CreationTimestamp:      Wed, 12 Sep 2018 16:49:09 +0200\r\n",
      "Labels:                 <none>\r\n",
      "Annotations:            deployment.kubernetes.io/revision=1\r\n",
      "                        kubectl.kubernetes.io/last-applied-configuration={\"apiVersion\":\"apps/v1beta2\",\"kind\":\"Deployment\",\"metadata\":{\"annotations\":{},\"name\":\"tomcat-deployment\",\"namespace\":\"cpu-limited-tomcat\"},\"spec\":{\"rep...\r\n",
      "Selector:               app=tomcat\r\n",
      "Replicas:               3 desired | 2 updated | 2 total | 2 available | 1 unavailable\r\n",
      "StrategyType:           RollingUpdate\r\n",
      "MinReadySeconds:        0\r\n",
      "RollingUpdateStrategy:  25% max unavailable, 25% max surge\r\n",
      "Pod Template:\r\n",
      "  Labels:  app=tomcat\r\n",
      "  Containers:\r\n",
      "   tomcat:\r\n",
      "    Image:      tomcat:9.0\r\n",
      "    Port:       8080/TCP\r\n",
      "    Host Port:  0/TCP\r\n",
      "    Limits:\r\n",
      "      cpu:        200m\r\n",
      "    Environment:  <none>\r\n",
      "    Mounts:       <none>\r\n",
      "  Volumes:        <none>\r\n",
      "Conditions:\r\n",
      "  Type             Status  Reason\r\n",
      "  ----             ------  ------\r\n",
      "  Available        False   MinimumReplicasUnavailable\r\n",
      "  ReplicaFailure   True    FailedCreate\r\n",
      "  Progressing      True    ReplicaSetUpdated\r\n",
      "OldReplicaSets:    <none>\r\n",
      "NewReplicaSet:     tomcat-deployment-7bc8d779d4 (2/3 replicas created)\r\n",
      "Events:\r\n",
      "  Type    Reason             Age   From                   Message\r\n",
      "  ----    ------             ----  ----                   -------\r\n",
      "  Normal  ScalingReplicaSet  1m    deployment-controller  Scaled up replica set tomcat-deployment-7bc8d779d4 to 3\r\n"
     ]
    }
   ],
   "source": [
    "!kubectl describe deployment tomcat-deployment \\\n",
    "--namespace=cpu-limited-tomcat"
   ]
  },
  {
   "cell_type": "markdown",
   "metadata": {},
   "source": [
    "<font color=red> 400 x 3 = 1200%. Third replica cannot be created because it exceeds the capacity. So kubernetes fails, without creating 2 replicas. </font>"
   ]
  },
  {
   "cell_type": "code",
   "execution_count": 15,
   "metadata": {},
   "outputs": [
    {
     "data": {
      "text/plain": [
       "['Conditions:',\n",
       " '  Type             Status  Reason',\n",
       " '  ----             ------  ------',\n",
       " '  Available        False   MinimumReplicasUnavailable',\n",
       " '  ReplicaFailure   True    FailedCreate',\n",
       " '  Progressing      False   ProgressDeadlineExceeded',\n",
       " 'OldReplicaSets:    <none>',\n",
       " 'NewReplicaSet:     tomcat-deployment-7bc8d779d4 (2/3 replicas created)',\n",
       " 'Events:',\n",
       " '  Type    Reason             Age   From                   Message',\n",
       " '  ----    ------             ----  ----                   -------',\n",
       " '  Normal  ScalingReplicaSet  14m   deployment-controller  Scaled up replica set tomcat-deployment-7bc8d779d4 to 3']"
      ]
     },
     "execution_count": 15,
     "metadata": {},
     "output_type": "execute_result"
    }
   ],
   "source": [
    "!!kubectl describe deployment tomcat-deployment \\\n",
    "--namespace=cpu-limited-tomcat | sed -n '/Conditions/,/EndPattern/p'"
   ]
  },
  {
   "cell_type": "markdown",
   "metadata": {},
   "source": [
    "<font color=red>Conditions give information on the conditions for creating the resource. Events gives information on different events. Combining both information makes the trobleshooting part easier.</font>"
   ]
  },
  {
   "cell_type": "markdown",
   "metadata": {},
   "source": [
    "#### Commands For Cut & Paste\n",
    "\n",
    "    kubectl create namespace <namespace name>\n",
    "    kubectl get namespace\n",
    "    kubectl create namespace cpu-limited-tomcat\n",
    "    kubectl create -f ./cpu-limits.yaml —namespace=cpu-limited-tomcat (from the GitHub repo directory for this lecture)\n",
    "    kubectl apply -f ./tomcat-deployment.yaml —namespace=cpu-limited-tomcat (from the GitHub repo directory for this lecture)\n",
    "    kubectl describe deployment tomcat-deployment —namespace=cpu-limited-tomcat"
   ]
  },
  {
   "cell_type": "code",
   "execution_count": null,
   "metadata": {},
   "outputs": [],
   "source": []
  }
 ],
 "metadata": {
  "kernelspec": {
   "display_name": "Python 3",
   "language": "python",
   "name": "python3"
  },
  "language_info": {
   "codemirror_mode": {
    "name": "ipython",
    "version": 3
   },
   "file_extension": ".py",
   "mimetype": "text/x-python",
   "name": "python",
   "nbconvert_exporter": "python",
   "pygments_lexer": "ipython3",
   "version": "3.6.5"
  }
 },
 "nbformat": 4,
 "nbformat_minor": 2
}
