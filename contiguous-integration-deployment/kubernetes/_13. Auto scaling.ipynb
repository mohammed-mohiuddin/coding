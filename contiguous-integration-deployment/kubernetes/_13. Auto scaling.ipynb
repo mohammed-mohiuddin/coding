{
 "cells": [
  {
   "cell_type": "markdown",
   "metadata": {},
   "source": [
    "### Horizontal pod autoscaler"
   ]
  },
  {
   "cell_type": "code",
   "execution_count": 4,
   "metadata": {},
   "outputs": [
    {
     "name": "stdout",
     "output_type": "stream",
     "text": [
      "        resources:\r\n",
      "          requests:\r\n",
      "            cpu: \"100m\"\r\n",
      "          limits:\r\n",
      "            cpu: \"200m\"\r\n"
     ]
    }
   ],
   "source": [
    "!cat autoscaling_wordpressdeployment.yaml | sed -n '/resources/,/200m/p'"
   ]
  },
  {
   "cell_type": "code",
   "execution_count": 5,
   "metadata": {},
   "outputs": [
    {
     "name": "stdout",
     "output_type": "stream",
     "text": [
      "deployment.apps/wordpress configured\r\n"
     ]
    }
   ],
   "source": [
    "!kubectl apply -f ./autoscaling_wordpressdeployment.yaml"
   ]
  },
  {
   "cell_type": "code",
   "execution_count": 6,
   "metadata": {},
   "outputs": [
    {
     "name": "stdout",
     "output_type": "stream",
     "text": [
      "horizontalpodautoscaler.autoscaling/wordpress autoscaled\n"
     ]
    }
   ],
   "source": [
    "%%bash\n",
    "kubectl autoscale deployment wordpress --cpu-percent=50 --min=1 --max=5"
   ]
  },
  {
   "cell_type": "markdown",
   "metadata": {},
   "source": [
    "Run the following in another terminal to genearte traffic to our wordpress site.\n",
    "\n",
    "    kubectl run -i --tty load-generator --image=busybox /bin/bash\n",
    "    \n",
    "then after logging into the new container type the following\n",
    "\n",
    "    while true; do wget -q -O http://wordpress.default.svc.cluster.local; done"
   ]
  },
  {
   "cell_type": "markdown",
   "metadata": {},
   "source": [
    "Auto scaling can be seen. hpa automatically increase the no of pods"
   ]
  },
  {
   "cell_type": "markdown",
   "metadata": {},
   "source": [
    "### first terminal\n",
    "    minikube addons enable metrics-server  \n",
    "    kubectl apply -f ./wordpress-deployment.yaml\n",
    "    kubectl autoscale deployment wordpress \\\n",
    "    --cpu-percent=50 --min=1 --max=5"
   ]
  },
  {
   "cell_type": "markdown",
   "metadata": {},
   "source": [
    "### second terminal\n",
    "    kubectl run -i --tty load-generator --image=busybox /bin/sh\n",
    "    while true; do wget -q -O- \n",
    "     \\ http://wordpress.default.svc.cluster.local; done"
   ]
  },
  {
   "cell_type": "markdown",
   "metadata": {},
   "source": [
    "### third terminal\n",
    "    kubectl get hpa"
   ]
  },
  {
   "cell_type": "code",
   "execution_count": null,
   "metadata": {},
   "outputs": [],
   "source": []
  }
 ],
 "metadata": {
  "kernelspec": {
   "display_name": "Python 3",
   "language": "python",
   "name": "python3"
  },
  "language_info": {
   "codemirror_mode": {
    "name": "ipython",
    "version": 3
   },
   "file_extension": ".py",
   "mimetype": "text/x-python",
   "name": "python",
   "nbconvert_exporter": "python",
   "pygments_lexer": "ipython3",
   "version": "3.6.5"
  }
 },
 "nbformat": 4,
 "nbformat_minor": 2
}
