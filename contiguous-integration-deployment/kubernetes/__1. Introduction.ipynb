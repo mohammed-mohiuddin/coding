{
 "cells": [
  {
   "cell_type": "markdown",
   "metadata": {},
   "source": [
    "#### Start Minikube"
   ]
  },
  {
   "cell_type": "code",
   "execution_count": 1,
   "metadata": {
    "scrolled": true
   },
   "outputs": [
    {
     "name": "stdout",
     "output_type": "stream",
     "text": [
      "minikube: Running\r\n",
      "cluster: Running\r\n",
      "kubectl: Correctly Configured: pointing to minikube-vm at 192.168.99.101\r\n"
     ]
    }
   ],
   "source": [
    "# minikube start\n",
    "!minikube status"
   ]
  },
  {
   "cell_type": "markdown",
   "metadata": {},
   "source": [
    "#### Create configuration yaml file"
   ]
  },
  {
   "cell_type": "code",
   "execution_count": 3,
   "metadata": {},
   "outputs": [
    {
     "name": "stdout",
     "output_type": "stream",
     "text": [
      "apiVersion: apps/v1beta2\r\n",
      "kind: Deployment\r\n",
      "metadata:\r\n",
      "  name: tomcat-deployment\r\n",
      "spec:\r\n",
      "  selector:\r\n",
      "    matchLabels:\r\n",
      "      app: tomcat\r\n",
      "  replicas: 1\r\n",
      "  template:\r\n",
      "    metadata:\r\n",
      "      labels:\r\n",
      "        app: tomcat\r\n",
      "    spec:\r\n",
      "      containers:\r\n",
      "      - name: tomcat\r\n",
      "        image: tomcat:9.0\r\n",
      "        ports:\r\n",
      "        - containerPort: 8080"
     ]
    }
   ],
   "source": [
    "!cat deployment.yaml"
   ]
  },
  {
   "cell_type": "markdown",
   "metadata": {},
   "source": [
    "#### Copy config file to cluster"
   ]
  },
  {
   "cell_type": "code",
   "execution_count": 13,
   "metadata": {},
   "outputs": [
    {
     "name": "stdout",
     "output_type": "stream",
     "text": [
      "deployment.apps/tomcat-deployment created\r\n"
     ]
    }
   ],
   "source": [
    "!kubectl apply -f ./deployment.yaml"
   ]
  },
  {
   "cell_type": "code",
   "execution_count": 15,
   "metadata": {},
   "outputs": [
    {
     "name": "stdout",
     "output_type": "stream",
     "text": [
      "NAME                DESIRED   CURRENT   UP-TO-DATE   AVAILABLE   AGE\r\n",
      "tomcat-deployment   1         1         1            1           16s\r\n"
     ]
    }
   ],
   "source": [
    "!kubectl get deployments"
   ]
  },
  {
   "cell_type": "markdown",
   "metadata": {},
   "source": [
    "#### Deploy a cluster by specifying the exposed ports for connection"
   ]
  },
  {
   "cell_type": "code",
   "execution_count": 16,
   "metadata": {},
   "outputs": [
    {
     "name": "stdout",
     "output_type": "stream",
     "text": [
      "Error from server (AlreadyExists): services \"tomcat-deployment\" already exists\r\n"
     ]
    }
   ],
   "source": [
    "!kubectl expose deployment tomcat-deployment --type=NodePort"
   ]
  },
  {
   "cell_type": "code",
   "execution_count": 17,
   "metadata": {},
   "outputs": [
    {
     "name": "stdout",
     "output_type": "stream",
     "text": [
      "http://192.168.99.101:30260\r\n"
     ]
    }
   ],
   "source": [
    "!minikube service tomcat-deployment --url"
   ]
  },
  {
   "cell_type": "code",
   "execution_count": 19,
   "metadata": {},
   "outputs": [
    {
     "name": "stdout",
     "output_type": "stream",
     "text": [
      "\n",
      "\n",
      "\n",
      "<!DOCTYPE html>\n",
      "<html lang=\"en\">\n",
      "    <head>\n",
      "        <meta charset=\"UTF-8\" />\n",
      "        <title>Apache Tomcat/9.0.11</title>\n",
      "        <link href=\"favicon.ico\" rel=\"icon\" type=\"image/x-icon\" />\n",
      "        <link href=\"favicon.ico\" rel=\"shortcut icon\" type=\"image/x-icon\" />\n",
      "        <link href=\"tomcat.css\" rel=\"stylesheet\" type=\"text/css\" />\n",
      "    </head>\n",
      "\n",
      "    <body>\n",
      "        <div id=\"wrapper\">\n",
      "            <div id=\"navigation\" class=\"curved container\">\n",
      "                <span id=\"nav-home\"><a href=\"https://tomcat.apache.org/\">Home</a></span>\n",
      "                <span id=\"nav-hosts\"><a href=\"/docs/\">Documentation</a></span>\n",
      "                <span id=\"nav-config\"><a href=\"/docs/config/\">Configuration</a></span>\n",
      "                <span id=\"nav-examples\"><a href=\"/examples/\">Examples</a></span>\n",
      "                <span id=\"nav-wiki\"><a href=\"https://wiki.apache.org/tomcat/FrontPage\">Wiki</a></span>\n",
      "                <span id=\"nav-lists\"><a href=\"https://tomcat.apache.org/lists.html\">Mailing Lists</a></span>\n",
      "                <span id=\"nav-help\"><a href=\"https://tomcat.apache.org/findhelp.html\">Find Help</a></span>\n",
      "                <br class=\"separator\" />\n",
      "            </div>\n",
      "            <div id=\"asf-box\">\n",
      "                <h1>Apache Tomcat/9.0.11</h1>\n",
      "            </div>\n",
      "            <div id=\"upper\" class=\"curved container\">\n",
      "                <div id=\"congrats\" class=\"curved container\">\n",
      "                    <h2>If you're seeing this, you've successfully installed Tomcat. Congratulations!</h2>\n",
      "                </div>\n",
      "                <div id=\"notice\">\n",
      "                    <img src=\"tomcat.png\" alt=\"[tomcat logo]\" />\n",
      "                    <div id=\"tasks\">\n",
      "                        <h3>Recommended Reading:</h3>\n",
      "                        <h4><a href=\"/docs/security-howto.html\">Security Considerations HOW-TO</a></h4>\n",
      "                        <h4><a href=\"/docs/manager-howto.html\">Manager Application HOW-TO</a></h4>\n",
      "                        <h4><a href=\"/docs/cluster-howto.html\">Clustering/Session Replication HOW-TO</a></h4>\n",
      "                    </div>\n",
      "                </div>\n",
      "                <div id=\"actions\">\n",
      "                    <div class=\"button\">\n",
      "                        <a class=\"container shadow\" href=\"/manager/status\"><span>Server Status</span></a>\n",
      "                    </div>\n",
      "                    <div class=\"button\">\n",
      "                        <a class=\"container shadow\" href=\"/manager/html\"><span>Manager App</span></a>\n",
      "                    </div>\n",
      "                    <div class=\"button\">\n",
      "                        <a class=\"container shadow\" href=\"/host-manager/html\"><span>Host Manager</span></a>\n",
      "                    </div>\n",
      "                </div>\n",
      "                <!--\n",
      "                <br class=\"separator\" />\n",
      "                -->\n",
      "                <br class=\"separator\" />\n",
      "            </div>\n",
      "            <div id=\"middle\" class=\"curved container\">\n",
      "                <h3>Developer Quick Start</h3>\n",
      "                <div class=\"col25\">\n",
      "                    <div class=\"container\">\n",
      "                        <p><a href=\"/docs/setup.html\">Tomcat Setup</a></p>\n",
      "                        <p><a href=\"/docs/appdev/\">First Web Application</a></p>\n",
      "                    </div>\n",
      "                </div>\n",
      "                <div class=\"col25\">\n",
      "                    <div class=\"container\">\n",
      "                        <p><a href=\"/docs/realm-howto.html\">Realms &amp; AAA</a></p>\n",
      "                        <p><a href=\"/docs/jndi-datasource-examples-howto.html\">JDBC DataSources</a></p>\n",
      "                    </div>\n",
      "                </div>\n",
      "                <div class=\"col25\">\n",
      "                    <div class=\"container\">\n",
      "                        <p><a href=\"/examples/\">Examples</a></p>\n",
      "                    </div>\n",
      "                </div>\n",
      "                <div class=\"col25\">\n",
      "                    <div class=\"container\">\n",
      "                        <p><a href=\"https://wiki.apache.org/tomcat/Specifications\">Servlet Specifications</a></p>\n",
      "                        <p><a href=\"https://wiki.apache.org/tomcat/TomcatVersions\">Tomcat Versions</a></p>\n",
      "                    </div>\n",
      "                </div>\n",
      "                <br class=\"separator\" />\n",
      "            </div>\n",
      "            <div id=\"lower\">\n",
      "                <div id=\"low-manage\" class=\"\">\n",
      "                    <div class=\"curved container\">\n",
      "                        <h3>Managing Tomcat</h3>\n",
      "                        <p>For security, access to the <a href=\"/manager/html\">manager webapp</a> is restricted.\n",
      "                        Users are defined in:</p>\n",
      "                        <pre>$CATALINA_HOME/conf/tomcat-users.xml</pre>\n",
      "                        <p>In Tomcat 9.0 access to the manager application is split between\n",
      "                           different users. &nbsp; <a href=\"/docs/manager-howto.html\">Read more...</a></p>\n",
      "                        <br />\n",
      "                        <h4><a href=\"/docs/RELEASE-NOTES.txt\">Release Notes</a></h4>\n",
      "                        <h4><a href=\"/docs/changelog.html\">Changelog</a></h4>\n",
      "                        <h4><a href=\"https://tomcat.apache.org/migration.html\">Migration Guide</a></h4>\n",
      "                        <h4><a href=\"https://tomcat.apache.org/security.html\">Security Notices</a></h4>\n",
      "                    </div>\n",
      "                </div>\n",
      "                <div id=\"low-docs\" class=\"\">\n",
      "                    <div class=\"curved container\">\n",
      "                        <h3>Documentation</h3>\n",
      "                        <h4><a href=\"/docs/\">Tomcat 9.0 Documentation</a></h4>\n",
      "                        <h4><a href=\"/docs/config/\">Tomcat 9.0 Configuration</a></h4>\n",
      "                        <h4><a href=\"https://wiki.apache.org/tomcat/FrontPage\">Tomcat Wiki</a></h4>\n",
      "                        <p>Find additional important configuration information in:</p>\n",
      "                        <pre>$CATALINA_HOME/RUNNING.txt</pre>\n",
      "                        <p>Developers may be interested in:</p>\n",
      "                        <ul>\n",
      "                            <li><a href=\"https://tomcat.apache.org/bugreport.html\">Tomcat 9.0 Bug Database</a></li>\n",
      "                            <li><a href=\"/docs/api/index.html\">Tomcat 9.0 JavaDocs</a></li>\n",
      "                            <li><a href=\"https://svn.apache.org/repos/asf/tomcat/tc9.0.x/\">Tomcat 9.0 SVN Repository</a></li>\n",
      "                        </ul>\n",
      "                    </div>\n",
      "                </div>\n",
      "                <div id=\"low-help\" class=\"\">\n",
      "                    <div class=\"curved container\">\n",
      "                        <h3>Getting Help</h3>\n",
      "                        <h4><a href=\"https://tomcat.apache.org/faq/\">FAQ</a> and <a href=\"https://tomcat.apache.org/lists.html\">Mailing Lists</a></h4>\n",
      "                        <p>The following mailing lists are available:</p>\n",
      "                        <ul>\n",
      "                            <li id=\"list-announce\"><strong><a href=\"https://tomcat.apache.org/lists.html#tomcat-announce\">tomcat-announce</a><br />\n",
      "                                Important announcements, releases, security vulnerability notifications. (Low volume).</strong>\n",
      "                            </li>\n",
      "                            <li><a href=\"https://tomcat.apache.org/lists.html#tomcat-users\">tomcat-users</a><br />\n",
      "                                User support and discussion\n",
      "                            </li>\n",
      "                            <li><a href=\"https://tomcat.apache.org/lists.html#taglibs-user\">taglibs-user</a><br />\n",
      "                                User support and discussion for <a href=\"https://tomcat.apache.org/taglibs/\">Apache Taglibs</a>\n",
      "                            </li>\n",
      "                            <li><a href=\"https://tomcat.apache.org/lists.html#tomcat-dev\">tomcat-dev</a><br />\n",
      "                                Development mailing list, including commit messages\n",
      "                            </li>\n",
      "                        </ul>\n",
      "                    </div>\n",
      "                </div>\n",
      "                <br class=\"separator\" />\n",
      "            </div>\n",
      "            <div id=\"footer\" class=\"curved container\">\n",
      "                <div class=\"col20\">\n",
      "                    <div class=\"container\">\n",
      "                        <h4>Other Downloads</h4>\n",
      "                        <ul>\n",
      "                            <li><a href=\"https://tomcat.apache.org/download-connectors.cgi\">Tomcat Connectors</a></li>\n",
      "                            <li><a href=\"https://tomcat.apache.org/download-native.cgi\">Tomcat Native</a></li>\n",
      "                            <li><a href=\"https://tomcat.apache.org/taglibs/\">Taglibs</a></li>\n",
      "                            <li><a href=\"/docs/deployer-howto.html\">Deployer</a></li>\n",
      "                        </ul>\n",
      "                    </div>\n",
      "                </div>\n",
      "                <div class=\"col20\">\n",
      "                    <div class=\"container\">\n",
      "                        <h4>Other Documentation</h4>\n",
      "                        <ul>\n",
      "                            <li><a href=\"https://tomcat.apache.org/connectors-doc/\">Tomcat Connectors</a></li>\n",
      "                            <li><a href=\"https://tomcat.apache.org/connectors-doc/\">mod_jk Documentation</a></li>\n",
      "                            <li><a href=\"https://tomcat.apache.org/native-doc/\">Tomcat Native</a></li>\n",
      "                            <li><a href=\"/docs/deployer-howto.html\">Deployer</a></li>\n",
      "                        </ul>\n",
      "                    </div>\n",
      "                </div>\n",
      "                <div class=\"col20\">\n",
      "                    <div class=\"container\">\n",
      "                        <h4>Get Involved</h4>\n",
      "                        <ul>\n",
      "                            <li><a href=\"https://tomcat.apache.org/getinvolved.html\">Overview</a></li>\n",
      "                            <li><a href=\"https://tomcat.apache.org/svn.html\">SVN Repositories</a></li>\n",
      "                            <li><a href=\"https://tomcat.apache.org/lists.html\">Mailing Lists</a></li>\n",
      "                            <li><a href=\"https://wiki.apache.org/tomcat/FrontPage\">Wiki</a></li>\n",
      "                        </ul>\n",
      "                    </div>\n",
      "                </div>\n",
      "                <div class=\"col20\">\n",
      "                    <div class=\"container\">\n",
      "                        <h4>Miscellaneous</h4>\n",
      "                        <ul>\n",
      "                            <li><a href=\"https://tomcat.apache.org/contact.html\">Contact</a></li>\n",
      "                            <li><a href=\"https://tomcat.apache.org/legal.html\">Legal</a></li>\n",
      "                            <li><a href=\"https://www.apache.org/foundation/sponsorship.html\">Sponsorship</a></li>\n",
      "                            <li><a href=\"https://www.apache.org/foundation/thanks.html\">Thanks</a></li>\n",
      "                        </ul>\n",
      "                    </div>\n",
      "                </div>\n",
      "                <div class=\"col20\">\n",
      "                    <div class=\"container\">\n",
      "                        <h4>Apache Software Foundation</h4>\n",
      "                        <ul>\n",
      "                            <li><a href=\"https://tomcat.apache.org/whoweare.html\">Who We Are</a></li>\n",
      "                            <li><a href=\"https://tomcat.apache.org/heritage.html\">Heritage</a></li>\n",
      "                            <li><a href=\"https://www.apache.org\">Apache Home</a></li>\n",
      "                            <li><a href=\"https://tomcat.apache.org/resources.html\">Resources</a></li>\n",
      "                        </ul>\n",
      "                    </div>\n",
      "                </div>\n",
      "                <br class=\"separator\" />\n",
      "            </div>\n",
      "            <p class=\"copyright\">Copyright &copy;1999-2018 Apache Software Foundation.  All Rights Reserved</p>\n",
      "        </div>\n",
      "    </body>\n",
      "\n",
      "</html>\n"
     ]
    }
   ],
   "source": [
    "!curl $(minikube service tomcat-deployment --url)"
   ]
  },
  {
   "cell_type": "code",
   "execution_count": null,
   "metadata": {},
   "outputs": [],
   "source": []
  }
 ],
 "metadata": {
  "kernelspec": {
   "display_name": "Python 3",
   "language": "python",
   "name": "python3"
  },
  "language_info": {
   "codemirror_mode": {
    "name": "ipython",
    "version": 3
   },
   "file_extension": ".py",
   "mimetype": "text/x-python",
   "name": "python",
   "nbconvert_exporter": "python",
   "pygments_lexer": "ipython3",
   "version": "3.6.5"
  }
 },
 "nbformat": 4,
 "nbformat_minor": 2
}
