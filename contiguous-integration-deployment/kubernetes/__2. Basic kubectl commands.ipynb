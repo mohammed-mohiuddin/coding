{
 "cells": [
  {
   "cell_type": "code",
   "execution_count": 1,
   "metadata": {},
   "outputs": [
    {
     "name": "stdout",
     "output_type": "stream",
     "text": [
      "NAME                                 READY     STATUS    RESTARTS   AGE\r\n",
      "tomcat-deployment-56ff5c79c5-ljvdb   1/1       Running   0          4m\r\n"
     ]
    }
   ],
   "source": [
    "!kubectl get pods"
   ]
  },
  {
   "cell_type": "code",
   "execution_count": 3,
   "metadata": {},
   "outputs": [
    {
     "name": "stdout",
     "output_type": "stream",
     "text": [
      "NAME                                 READY     STATUS    RESTARTS   AGE\r\n",
      "tomcat-deployment-56ff5c79c5-ljvdb   1/1       Running   0          4m\r\n"
     ]
    }
   ],
   "source": [
    "!kubectl get pod"
   ]
  },
  {
   "cell_type": "markdown",
   "metadata": {},
   "source": [
    "#### Another way of creating a deployment\n",
    "    kubectl expose deployment tomcat-deployment --type=NodePort"
   ]
  },
  {
   "cell_type": "markdown",
   "metadata": {},
   "source": [
    "### Can we connect to specific container ??"
   ]
  },
  {
   "cell_type": "markdown",
   "metadata": {},
   "source": [
    "#### First Way: It is possible to use port forwarding between local system and an existing pod or container\n",
    "    kubectl port-forward <pod name> [LOCAL_PORT:]REMOTE_PORT]"
   ]
  },
  {
   "cell_type": "code",
   "execution_count": 6,
   "metadata": {},
   "outputs": [
    {
     "name": "stdout",
     "output_type": "stream",
     "text": [
      "Forwarding from 127.0.0.1:6666 -> 30260\n",
      "Forwarding from [::1]:6666 -> 30260\n",
      "^C\n"
     ]
    }
   ],
   "source": [
    "!kubectl port-forward tomcat-deployment-56ff5c79c5-ljvdb 6666:30260"
   ]
  },
  {
   "cell_type": "code",
   "execution_count": 7,
   "metadata": {},
   "outputs": [
    {
     "name": "stdout",
     "output_type": "stream",
     "text": [
      "Name:           tomcat-deployment-56ff5c79c5-ljvdb\r\n",
      "Namespace:      default\r\n",
      "Node:           minikube/10.0.2.15\r\n",
      "Start Time:     Tue, 11 Sep 2018 14:19:42 +0200\r\n",
      "Labels:         app=tomcat\r\n",
      "                pod-template-hash=1299173571\r\n",
      "Annotations:    <none>\r\n",
      "Status:         Running\r\n",
      "IP:             172.17.0.4\r\n",
      "Controlled By:  ReplicaSet/tomcat-deployment-56ff5c79c5\r\n",
      "Containers:\r\n",
      "  tomcat:\r\n",
      "    Container ID:   docker://1da9bf0cc22aee96d2444c1521d5d8654fbf089af2ebfe6df43bda5249c041cb\r\n",
      "    Image:          tomcat:9.0\r\n",
      "    Image ID:       docker-pullable://tomcat@sha256:c9475761c26b74f7d92864f32433eba21f3718a3be9be5df3e24e2d564740707\r\n",
      "    Port:           8080/TCP\r\n",
      "    Host Port:      0/TCP\r\n",
      "    State:          Running\r\n",
      "      Started:      Tue, 11 Sep 2018 14:19:43 +0200\r\n",
      "    Ready:          True\r\n",
      "    Restart Count:  0\r\n",
      "    Environment:    <none>\r\n",
      "    Mounts:\r\n",
      "      /var/run/secrets/kubernetes.io/serviceaccount from default-token-qh4bq (ro)\r\n",
      "Conditions:\r\n",
      "  Type           Status\r\n",
      "  Initialized    True \r\n",
      "  Ready          True \r\n",
      "  PodScheduled   True \r\n",
      "Volumes:\r\n",
      "  default-token-qh4bq:\r\n",
      "    Type:        Secret (a volume populated by a Secret)\r\n",
      "    SecretName:  default-token-qh4bq\r\n",
      "    Optional:    false\r\n",
      "QoS Class:       BestEffort\r\n",
      "Node-Selectors:  <none>\r\n",
      "Tolerations:     node.kubernetes.io/not-ready:NoExecute for 300s\r\n",
      "                 node.kubernetes.io/unreachable:NoExecute for 300s\r\n",
      "Events:\r\n",
      "  Type    Reason                 Age   From               Message\r\n",
      "  ----    ------                 ----  ----               -------\r\n",
      "  Normal  Scheduled              12m   default-scheduler  Successfully assigned tomcat-deployment-56ff5c79c5-ljvdb to minikube\r\n",
      "  Normal  SuccessfulMountVolume  12m   kubelet, minikube  MountVolume.SetUp succeeded for volume \"default-token-qh4bq\"\r\n",
      "  Normal  Pulled                 12m   kubelet, minikube  Container image \"tomcat:9.0\" already present on machine\r\n",
      "  Normal  Created                12m   kubelet, minikube  Created container\r\n",
      "  Normal  Started                12m   kubelet, minikube  Started container\r\n"
     ]
    }
   ],
   "source": [
    "!kubectl describe pod tomcat-deployment-56ff5c79c5-ljvdb"
   ]
  },
  {
   "cell_type": "markdown",
   "metadata": {},
   "source": [
    "#### Second Way: This is a wonderful command, we can directly connect to a specific. Imagine, how handy this would be, when you would like troubleshoot something.\n",
    "    kubectl attach <pod> -c <container>"
   ]
  },
  {
   "cell_type": "markdown",
   "metadata": {},
   "source": [
    "#### Third Way\n",
    "    kubectl exec [-it] <pod> -c <container> command\n",
    "    kubectl exec [-it] <pod> command"
   ]
  },
  {
   "cell_type": "code",
   "execution_count": 22,
   "metadata": {},
   "outputs": [
    {
     "name": "stdout",
     "output_type": "stream",
     "text": [
      "Mohammeds-Air.fritz.box\r\n"
     ]
    }
   ],
   "source": [
    "!hostname"
   ]
  },
  {
   "cell_type": "code",
   "execution_count": 24,
   "metadata": {},
   "outputs": [
    {
     "name": "stdout",
     "output_type": "stream",
     "text": [
      "root@tomcat-deployment-56ff5c79c5-ljvdb:/usr/local/tomcat# ^C\n",
      "\n",
      "root@tomcat-deployment-56ff5c79c5-ljvdb:/usr/local/tomcat# "
     ]
    }
   ],
   "source": [
    "!kubectl exec -ti tomcat-deployment-56ff5c79c5-ljvdb bash"
   ]
  },
  {
   "cell_type": "markdown",
   "metadata": {},
   "source": [
    "#### Labeling pods\n",
    "    kubectl label [—overwrite] <type> KEY_1=VAL_1 …."
   ]
  },
  {
   "cell_type": "code",
   "execution_count": 28,
   "metadata": {},
   "outputs": [
    {
     "name": "stdout",
     "output_type": "stream",
     "text": [
      "pod/tomcat-deployment-56ff5c79c5-ljvdb labeled\r\n"
     ]
    }
   ],
   "source": [
    "!kubectl label pods tomcat-deployment-56ff5c79c5-ljvdb unhealthy=true"
   ]
  },
  {
   "cell_type": "markdown",
   "metadata": {},
   "source": [
    "#### Create a container from an image\n",
    "    kubectl run <name> —image=image"
   ]
  },
  {
   "cell_type": "code",
   "execution_count": 30,
   "metadata": {},
   "outputs": [
    {
     "name": "stdout",
     "output_type": "stream",
     "text": [
      "deployment.apps/hastlecast created\r\n"
     ]
    }
   ],
   "source": [
    "!kubectl run hastlecast --image=hazelcast/hazelcast --port=5701"
   ]
  },
  {
   "cell_type": "code",
   "execution_count": 31,
   "metadata": {},
   "outputs": [
    {
     "name": "stdout",
     "output_type": "stream",
     "text": [
      "NAME                                 READY     STATUS              RESTARTS   AGE\r\n",
      "hastlecast-74f7dc47d8-5gxfs          0/1       ContainerCreating   0          15s\r\n",
      "tomcat-deployment-56ff5c79c5-ljvdb   1/1       Running             0          34m\r\n"
     ]
    }
   ],
   "source": [
    "!kubectl get pods"
   ]
  },
  {
   "cell_type": "code",
   "execution_count": 32,
   "metadata": {},
   "outputs": [
    {
     "name": "stdout",
     "output_type": "stream",
     "text": [
      "Name:           hastlecast-74f7dc47d8-5gxfs\n",
      "Namespace:      default\n",
      "Node:           minikube/10.0.2.15\n",
      "Start Time:     Tue, 11 Sep 2018 14:53:35 +0200\n",
      "Labels:         pod-template-hash=3093870384\n",
      "                run=hastlecast\n",
      "Annotations:    <none>\n",
      "Status:         Running\n",
      "IP:             172.17.0.5\n",
      "Controlled By:  ReplicaSet/hastlecast-74f7dc47d8\n",
      "Containers:\n",
      "  hastlecast:\n",
      "    Container ID:   docker://0d3a950b7c9212be7fdb80f3a43008665d9f6a1afe488d5290589fae15182fbb\n",
      "    Image:          hazelcast/hazelcast\n",
      "    Image ID:       docker-pullable://hazelcast/hazelcast@sha256:4a6ebe0e32ea18ce420c8173520ce5e22ce466a920c43af19c9622bf5fdff69d\n",
      "    Port:           5701/TCP\n",
      "    Host Port:      0/TCP\n",
      "    State:          Running\n",
      "      Started:      Tue, 11 Sep 2018 14:54:01 +0200\n",
      "    Ready:          True\n",
      "    Restart Count:  0\n",
      "    Environment:    <none>\n",
      "    Mounts:\n",
      "      /var/run/secrets/kubernetes.io/serviceaccount from default-token-qh4bq (ro)\n",
      "Conditions:\n",
      "  Type           Status\n",
      "  Initialized    True \n",
      "  Ready          True \n",
      "  PodScheduled   True \n",
      "Volumes:\n",
      "  default-token-qh4bq:\n",
      "    Type:        Secret (a volume populated by a Secret)\n",
      "    SecretName:  default-token-qh4bq\n",
      "    Optional:    false\n",
      "QoS Class:       BestEffort\n",
      "Node-Selectors:  <none>\n",
      "Tolerations:     node.kubernetes.io/not-ready:NoExecute for 300s\n",
      "                 node.kubernetes.io/unreachable:NoExecute for 300s\n",
      "Events:\n",
      "  Type    Reason                 Age   From               Message\n",
      "  ----    ------                 ----  ----               -------\n",
      "  Normal  Scheduled              33s   default-scheduler  Successfully assigned hastlecast-74f7dc47d8-5gxfs to minikube\n",
      "  Normal  SuccessfulMountVolume  33s   kubelet, minikube  MountVolume.SetUp succeeded for volume \"default-token-qh4bq\"\n",
      "  Normal  Pulling                33s   kubelet, minikube  pulling image \"hazelcast/hazelcast\"\n",
      "  Normal  Pulled                 8s    kubelet, minikube  Successfully pulled image \"hazelcast/hazelcast\"\n",
      "  Normal  Created                8s    kubelet, minikube  Created container\n",
      "  Normal  Started                7s    kubelet, minikube  Started container\n",
      "\n",
      "\n",
      "Name:           tomcat-deployment-56ff5c79c5-ljvdb\n",
      "Namespace:      default\n",
      "Node:           minikube/10.0.2.15\n",
      "Start Time:     Tue, 11 Sep 2018 14:19:42 +0200\n",
      "Labels:         app=tomcat\n",
      "                healthy=fasle\n",
      "                pod-template-hash=1299173571\n",
      "                unhealthy=true\n",
      "Annotations:    <none>\n",
      "Status:         Running\n",
      "IP:             172.17.0.4\n",
      "Controlled By:  ReplicaSet/tomcat-deployment-56ff5c79c5\n",
      "Containers:\n",
      "  tomcat:\n",
      "    Container ID:   docker://1da9bf0cc22aee96d2444c1521d5d8654fbf089af2ebfe6df43bda5249c041cb\n",
      "    Image:          tomcat:9.0\n",
      "    Image ID:       docker-pullable://tomcat@sha256:c9475761c26b74f7d92864f32433eba21f3718a3be9be5df3e24e2d564740707\n",
      "    Port:           8080/TCP\n",
      "    Host Port:      0/TCP\n",
      "    State:          Running\n",
      "      Started:      Tue, 11 Sep 2018 14:19:43 +0200\n",
      "    Ready:          True\n",
      "    Restart Count:  0\n",
      "    Environment:    <none>\n",
      "    Mounts:\n",
      "      /var/run/secrets/kubernetes.io/serviceaccount from default-token-qh4bq (ro)\n",
      "Conditions:\n",
      "  Type           Status\n",
      "  Initialized    True \n",
      "  Ready          True \n",
      "  PodScheduled   True \n",
      "Volumes:\n",
      "  default-token-qh4bq:\n",
      "    Type:        Secret (a volume populated by a Secret)\n",
      "    SecretName:  default-token-qh4bq\n",
      "    Optional:    false\n",
      "QoS Class:       BestEffort\n",
      "Node-Selectors:  <none>\n",
      "Tolerations:     node.kubernetes.io/not-ready:NoExecute for 300s\n",
      "                 node.kubernetes.io/unreachable:NoExecute for 300s\n",
      "Events:\n",
      "  Type    Reason                 Age   From               Message\n",
      "  ----    ------                 ----  ----               -------\n",
      "  Normal  Scheduled              34m   default-scheduler  Successfully assigned tomcat-deployment-56ff5c79c5-ljvdb to minikube\n",
      "  Normal  SuccessfulMountVolume  34m   kubelet, minikube  MountVolume.SetUp succeeded for volume \"default-token-qh4bq\"\n",
      "  Normal  Pulled                 34m   kubelet, minikube  Container image \"tomcat:9.0\" already present on machine\n",
      "  Normal  Created                34m   kubelet, minikube  Created container\n",
      "  Normal  Started                34m   kubelet, minikube  Started container\n"
     ]
    }
   ],
   "source": [
    "!kubectl describe pod"
   ]
  },
  {
   "cell_type": "code",
   "execution_count": null,
   "metadata": {},
   "outputs": [],
   "source": []
  }
 ],
 "metadata": {
  "kernelspec": {
   "display_name": "Python 3",
   "language": "python",
   "name": "python3"
  },
  "language_info": {
   "codemirror_mode": {
    "name": "ipython",
    "version": 3
   },
   "file_extension": ".py",
   "mimetype": "text/x-python",
   "name": "python",
   "nbconvert_exporter": "python",
   "pygments_lexer": "ipython3",
   "version": "3.6.5"
  }
 },
 "nbformat": 4,
 "nbformat_minor": 2
}
