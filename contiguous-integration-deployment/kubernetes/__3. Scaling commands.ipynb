{
 "cells": [
  {
   "cell_type": "code",
   "execution_count": 1,
   "metadata": {},
   "outputs": [
    {
     "name": "stdout",
     "output_type": "stream",
     "text": [
      "apiVersion: apps/v1beta2\r\n",
      "kind: Deployment\r\n",
      "metadata:\r\n",
      "  name: tomcat-deployment\r\n",
      "spec:\r\n",
      "  selector:\r\n",
      "    matchLabels:\r\n",
      "      app: tomcat\r\n",
      "  replicas: 1\r\n",
      "  template:\r\n",
      "    metadata:\r\n",
      "      labels:\r\n",
      "        app: tomcat\r\n",
      "    spec:\r\n",
      "      containers:\r\n",
      "      - name: tomcat\r\n",
      "        image: tomcat:9.0\r\n",
      "        ports:\r\n",
      "        - containerPort: 8080"
     ]
    }
   ],
   "source": [
    "!cat deployment.yaml"
   ]
  },
  {
   "cell_type": "markdown",
   "metadata": {},
   "source": [
    "#### we can see, only 1 replica is mentioned. Hence we have one container in the pod."
   ]
  },
  {
   "cell_type": "code",
   "execution_count": 2,
   "metadata": {},
   "outputs": [
    {
     "name": "stdout",
     "output_type": "stream",
     "text": [
      "NAME                                 READY     STATUS    RESTARTS   AGE\r\n",
      "hastlecast-74f7dc47d8-5gxfs          1/1       Running   0          3m\r\n",
      "tomcat-deployment-56ff5c79c5-ljvdb   1/1       Running   0          36m\r\n"
     ]
    }
   ],
   "source": [
    "!kubectl get pods"
   ]
  },
  {
   "cell_type": "code",
   "execution_count": 3,
   "metadata": {},
   "outputs": [
    {
     "name": "stdout",
     "output_type": "stream",
     "text": [
      "deployment.extensions/tomcat-deployment scaled\r\n"
     ]
    }
   ],
   "source": [
    "!kubectl scale --replicas=4 deployment/tomcat-deployment"
   ]
  },
  {
   "cell_type": "code",
   "execution_count": 4,
   "metadata": {},
   "outputs": [
    {
     "name": "stdout",
     "output_type": "stream",
     "text": [
      "NAME                                 READY     STATUS    RESTARTS   AGE\r\n",
      "hastlecast-74f7dc47d8-5gxfs          1/1       Running   0          3m\r\n",
      "tomcat-deployment-56ff5c79c5-d8xhs   1/1       Running   0          11s\r\n",
      "tomcat-deployment-56ff5c79c5-ksxjr   1/1       Running   0          11s\r\n",
      "tomcat-deployment-56ff5c79c5-ljvdb   1/1       Running   0          37m\r\n",
      "tomcat-deployment-56ff5c79c5-lsk9h   1/1       Running   0          11s\r\n"
     ]
    }
   ],
   "source": [
    "!kubectl get pods"
   ]
  },
  {
   "cell_type": "code",
   "execution_count": 10,
   "metadata": {},
   "outputs": [
    {
     "name": "stdout",
     "output_type": "stream",
     "text": [
      "Name:           tomcat-deployment-56ff5c79c5-d8xhs\n",
      "Namespace:      default\n",
      "Node:           minikube/10.0.2.15\n",
      "Start Time:     Tue, 11 Sep 2018 14:56:59 +0200\n",
      "Labels:         app=tomcat\n",
      "                pod-template-hash=1299173571\n",
      "Annotations:    <none>\n",
      "Status:         Running\n",
      "IP:             172.17.0.7\n",
      "Controlled By:  ReplicaSet/tomcat-deployment-56ff5c79c5\n",
      "Containers:\n",
      "  tomcat:\n",
      "    Container ID:   docker://be3400257ddefcadc2ca1e790770c94cbf07bd2b99c42e149b2ca8b464c7d9a4\n",
      "    Image:          tomcat:9.0\n",
      "    Image ID:       docker-pullable://tomcat@sha256:c9475761c26b74f7d92864f32433eba21f3718a3be9be5df3e24e2d564740707\n",
      "    Port:           8080/TCP\n",
      "    Host Port:      0/TCP\n",
      "    State:          Running\n",
      "      Started:      Tue, 11 Sep 2018 14:57:01 +0200\n",
      "    Ready:          True\n",
      "    Restart Count:  0\n",
      "    Environment:    <none>\n",
      "    Mounts:\n",
      "      /var/run/secrets/kubernetes.io/serviceaccount from default-token-qh4bq (ro)\n",
      "Conditions:\n",
      "  Type           Status\n",
      "  Initialized    True \n",
      "  Ready          True \n",
      "  PodScheduled   True \n",
      "Volumes:\n",
      "  default-token-qh4bq:\n",
      "    Type:        Secret (a volume populated by a Secret)\n",
      "    SecretName:  default-token-qh4bq\n",
      "    Optional:    false\n",
      "QoS Class:       BestEffort\n",
      "Node-Selectors:  <none>\n",
      "Tolerations:     node.kubernetes.io/not-ready:NoExecute for 300s\n",
      "                 node.kubernetes.io/unreachable:NoExecute for 300s\n",
      "Events:\n",
      "  Type    Reason                 Age   From               Message\n",
      "  ----    ------                 ----  ----               -------\n",
      "  Normal  Scheduled              3m    default-scheduler  Successfully assigned tomcat-deployment-56ff5c79c5-d8xhs to minikube\n",
      "  Normal  SuccessfulMountVolume  3m    kubelet, minikube  MountVolume.SetUp succeeded for volume \"default-token-qh4bq\"\n",
      "  Normal  Pulled                 3m    kubelet, minikube  Container image \"tomcat:9.0\" already present on machine\n",
      "  Normal  Created                3m    kubelet, minikube  Created container\n",
      "  Normal  Started                3m    kubelet, minikube  Started container\n",
      "\n",
      "Name:           tomcat-deployment-56ff5c79c5-ksxjr\n",
      "Namespace:      default\n",
      "Node:           minikube/10.0.2.15\n",
      "Start Time:     Tue, 11 Sep 2018 14:56:59 +0200\n",
      "Labels:         app=tomcat\n",
      "                pod-template-hash=1299173571\n",
      "Annotations:    <none>\n",
      "Status:         Running\n",
      "IP:             172.17.0.6\n",
      "Controlled By:  ReplicaSet/tomcat-deployment-56ff5c79c5\n",
      "Containers:\n",
      "  tomcat:\n",
      "    Container ID:   docker://9b2e99d05cceb6d75ef098377777e57b41a082e6b62031a5e176648529abb016\n",
      "    Image:          tomcat:9.0\n",
      "    Image ID:       docker-pullable://tomcat@sha256:c9475761c26b74f7d92864f32433eba21f3718a3be9be5df3e24e2d564740707\n",
      "    Port:           8080/TCP\n",
      "    Host Port:      0/TCP\n",
      "    State:          Running\n",
      "      Started:      Tue, 11 Sep 2018 14:57:00 +0200\n",
      "    Ready:          True\n",
      "    Restart Count:  0\n",
      "    Environment:    <none>\n",
      "    Mounts:\n",
      "      /var/run/secrets/kubernetes.io/serviceaccount from default-token-qh4bq (ro)\n",
      "Conditions:\n",
      "  Type           Status\n",
      "  Initialized    True \n",
      "  Ready          True \n",
      "  PodScheduled   True \n",
      "Volumes:\n",
      "  default-token-qh4bq:\n",
      "    Type:        Secret (a volume populated by a Secret)\n",
      "    SecretName:  default-token-qh4bq\n",
      "    Optional:    false\n",
      "QoS Class:       BestEffort\n",
      "Node-Selectors:  <none>\n",
      "Tolerations:     node.kubernetes.io/not-ready:NoExecute for 300s\n",
      "                 node.kubernetes.io/unreachable:NoExecute for 300s\n",
      "Events:\n",
      "  Type    Reason                 Age   From               Message\n",
      "  ----    ------                 ----  ----               -------\n",
      "  Normal  Scheduled              3m    default-scheduler  Successfully assigned tomcat-deployment-56ff5c79c5-ksxjr to minikube\n",
      "  Normal  SuccessfulMountVolume  3m    kubelet, minikube  MountVolume.SetUp succeeded for volume \"default-token-qh4bq\"\n",
      "  Normal  Pulled                 3m    kubelet, minikube  Container image \"tomcat:9.0\" already present on machine\n",
      "  Normal  Created                3m    kubelet, minikube  Created container\n",
      "  Normal  Started                3m    kubelet, minikube  Started container\n",
      "\n",
      "Name:           tomcat-deployment-56ff5c79c5-ljvdb\n",
      "Namespace:      default\n",
      "Node:           minikube/10.0.2.15\n",
      "Start Time:     Tue, 11 Sep 2018 14:19:42 +0200\n",
      "Labels:         app=tomcat\n",
      "                healthy=fasle\n",
      "                pod-template-hash=1299173571\n",
      "                unhealthy=true\n",
      "Annotations:    <none>\n",
      "Status:         Running\n",
      "IP:             172.17.0.4\n",
      "Controlled By:  ReplicaSet/tomcat-deployment-56ff5c79c5\n",
      "Containers:\n",
      "  tomcat:\n",
      "    Container ID:   docker://1da9bf0cc22aee96d2444c1521d5d8654fbf089af2ebfe6df43bda5249c041cb\n",
      "    Image:          tomcat:9.0\n",
      "    Image ID:       docker-pullable://tomcat@sha256:c9475761c26b74f7d92864f32433eba21f3718a3be9be5df3e24e2d564740707\n",
      "    Port:           8080/TCP\n",
      "    Host Port:      0/TCP\n",
      "    State:          Running\n",
      "      Started:      Tue, 11 Sep 2018 14:19:43 +0200\n",
      "    Ready:          True\n",
      "    Restart Count:  0\n",
      "    Environment:    <none>\n",
      "    Mounts:\n",
      "      /var/run/secrets/kubernetes.io/serviceaccount from default-token-qh4bq (ro)\n",
      "Conditions:\n",
      "  Type           Status\n",
      "  Initialized    True \n",
      "  Ready          True \n",
      "  PodScheduled   True \n",
      "Volumes:\n",
      "  default-token-qh4bq:\n",
      "    Type:        Secret (a volume populated by a Secret)\n",
      "    SecretName:  default-token-qh4bq\n",
      "    Optional:    false\n",
      "QoS Class:       BestEffort\n",
      "Node-Selectors:  <none>\n",
      "Tolerations:     node.kubernetes.io/not-ready:NoExecute for 300s\n",
      "                 node.kubernetes.io/unreachable:NoExecute for 300s\n",
      "Events:\n",
      "  Type    Reason                 Age   From               Message\n",
      "  ----    ------                 ----  ----               -------\n",
      "  Normal  Scheduled              41m   default-scheduler  Successfully assigned tomcat-deployment-56ff5c79c5-ljvdb to minikube\n",
      "  Normal  SuccessfulMountVolume  41m   kubelet, minikube  MountVolume.SetUp succeeded for volume \"default-token-qh4bq\"\n",
      "  Normal  Pulled                 41m   kubelet, minikube  Container image \"tomcat:9.0\" already present on machine\n",
      "  Normal  Created                41m   kubelet, minikube  Created container\n",
      "  Normal  Started                41m   kubelet, minikube  Started container\n",
      "\n",
      "Name:           tomcat-deployment-56ff5c79c5-lsk9h\n",
      "Namespace:      default\n",
      "Node:           minikube/10.0.2.15\n",
      "Start Time:     Tue, 11 Sep 2018 14:56:59 +0200\n",
      "Labels:         app=tomcat\n",
      "                pod-template-hash=1299173571\n",
      "Annotations:    <none>\n",
      "Status:         Running\n",
      "IP:             172.17.0.8\n",
      "Controlled By:  ReplicaSet/tomcat-deployment-56ff5c79c5\n",
      "Containers:\n",
      "  tomcat:\n",
      "    Container ID:   docker://1a9de0517e41551e74ad21493271a1442746e08c8b24cf3f4b8a549986de8c06\n",
      "    Image:          tomcat:9.0\n",
      "    Image ID:       docker-pullable://tomcat@sha256:c9475761c26b74f7d92864f32433eba21f3718a3be9be5df3e24e2d564740707\n",
      "    Port:           8080/TCP\n",
      "    Host Port:      0/TCP\n",
      "    State:          Running\n",
      "      Started:      Tue, 11 Sep 2018 14:57:01 +0200\n",
      "    Ready:          True\n",
      "    Restart Count:  0\n",
      "    Environment:    <none>\n",
      "    Mounts:\n",
      "      /var/run/secrets/kubernetes.io/serviceaccount from default-token-qh4bq (ro)\n",
      "Conditions:\n",
      "  Type           Status\n",
      "  Initialized    True \n",
      "  Ready          True \n",
      "  PodScheduled   True \n",
      "Volumes:\n",
      "  default-token-qh4bq:\n",
      "    Type:        Secret (a volume populated by a Secret)\n",
      "    SecretName:  default-token-qh4bq\n",
      "    Optional:    false\n",
      "QoS Class:       BestEffort\n",
      "Node-Selectors:  <none>\n",
      "Tolerations:     node.kubernetes.io/not-ready:NoExecute for 300s\n",
      "                 node.kubernetes.io/unreachable:NoExecute for 300s\n",
      "Events:\n",
      "  Type    Reason                 Age   From               Message\n",
      "  ----    ------                 ----  ----               -------\n",
      "  Normal  Scheduled              3m    default-scheduler  Successfully assigned tomcat-deployment-56ff5c79c5-lsk9h to minikube\n",
      "  Normal  SuccessfulMountVolume  3m    kubelet, minikube  MountVolume.SetUp succeeded for volume \"default-token-qh4bq\"\n",
      "  Normal  Pulled                 3m    kubelet, minikube  Container image \"tomcat:9.0\" already present on machine\n",
      "  Normal  Created                3m    kubelet, minikube  Created container\n",
      "  Normal  Started                3m    kubelet, minikube  Started container\n",
      "\n"
     ]
    }
   ],
   "source": [
    "!kubectl describe pod tomcat-deployment"
   ]
  },
  {
   "cell_type": "markdown",
   "metadata": {},
   "source": [
    "#### Change access method from NodePort to LoadBalancer"
   ]
  },
  {
   "cell_type": "code",
   "execution_count": 9,
   "metadata": {},
   "outputs": [
    {
     "name": "stdout",
     "output_type": "stream",
     "text": [
      "service/tomcat-load-balancer exposed\r\n"
     ]
    }
   ],
   "source": [
    "!kubectl expose deployment tomcat-deployment --type=LoadBalancer \\\n",
    "--port=8080 --target-port=8080 --name tomcat-load-balancer"
   ]
  },
  {
   "cell_type": "code",
   "execution_count": 12,
   "metadata": {},
   "outputs": [
    {
     "name": "stdout",
     "output_type": "stream",
     "text": [
      "Name:           tomcat-deployment-56ff5c79c5-d8xhs\r\n",
      "Namespace:      default\r\n",
      "Node:           minikube/10.0.2.15\r\n",
      "Start Time:     Tue, 11 Sep 2018 14:56:59 +0200\r\n",
      "Labels:         app=tomcat\r\n",
      "                pod-template-hash=1299173571\r\n",
      "Annotations:    <none>\r\n",
      "Status:         Running\r\n",
      "IP:             172.17.0.7\r\n",
      "Controlled By:  ReplicaSet/tomcat-deployment-56ff5c79c5\r\n",
      "Containers:\r\n",
      "  tomcat:\r\n",
      "    Container ID:   docker://be3400257ddefcadc2ca1e790770c94cbf07bd2b99c42e149b2ca8b464c7d9a4\r\n",
      "    Image:          tomcat:9.0\r\n",
      "    Image ID:       docker-pullable://tomcat@sha256:c9475761c26b74f7d92864f32433eba21f3718a3be9be5df3e24e2d564740707\r\n",
      "    Port:           8080/TCP\r\n",
      "    Host Port:      0/TCP\r\n",
      "    State:          Running\r\n",
      "      Started:      Tue, 11 Sep 2018 14:57:01 +0200\r\n",
      "    Ready:          True\r\n",
      "    Restart Count:  0\r\n",
      "    Environment:    <none>\r\n",
      "    Mounts:\r\n",
      "      /var/run/secrets/kubernetes.io/serviceaccount from default-token-qh4bq (ro)\r\n",
      "Conditions:\r\n",
      "  Type           Status\r\n",
      "  Initialized    True \r\n",
      "  Ready          True \r\n",
      "  PodScheduled   True \r\n",
      "Volumes:\r\n",
      "  default-token-qh4bq:\r\n",
      "    Type:        Secret (a volume populated by a Secret)\r\n",
      "    SecretName:  default-token-qh4bq\r\n",
      "    Optional:    false\r\n",
      "QoS Class:       BestEffort\r\n",
      "Node-Selectors:  <none>\r\n",
      "Tolerations:     node.kubernetes.io/not-ready:NoExecute for 300s\r\n",
      "                 node.kubernetes.io/unreachable:NoExecute for 300s\r\n",
      "Events:\r\n",
      "  Type    Reason                 Age   From               Message\r\n",
      "  ----    ------                 ----  ----               -------\r\n",
      "  Normal  Scheduled              7m    default-scheduler  Successfully assigned tomcat-deployment-56ff5c79c5-d8xhs to minikube\r\n",
      "  Normal  SuccessfulMountVolume  7m    kubelet, minikube  MountVolume.SetUp succeeded for volume \"default-token-qh4bq\"\r\n",
      "  Normal  Pulled                 7m    kubelet, minikube  Container image \"tomcat:9.0\" already present on machine\r\n",
      "  Normal  Created                7m    kubelet, minikube  Created container\r\n",
      "  Normal  Started                7m    kubelet, minikube  Started container\r\n",
      "\r\n",
      "Name:           tomcat-deployment-56ff5c79c5-ksxjr\r\n",
      "Namespace:      default\r\n",
      "Node:           minikube/10.0.2.15\r\n",
      "Start Time:     Tue, 11 Sep 2018 14:56:59 +0200\r\n",
      "Labels:         app=tomcat\r\n",
      "                pod-template-hash=1299173571\r\n",
      "Annotations:    <none>\r\n",
      "Status:         Running\r\n",
      "IP:             172.17.0.6\r\n",
      "Controlled By:  ReplicaSet/tomcat-deployment-56ff5c79c5\r\n",
      "Containers:\r\n",
      "  tomcat:\r\n",
      "    Container ID:   docker://9b2e99d05cceb6d75ef098377777e57b41a082e6b62031a5e176648529abb016\r\n",
      "    Image:          tomcat:9.0\r\n",
      "    Image ID:       docker-pullable://tomcat@sha256:c9475761c26b74f7d92864f32433eba21f3718a3be9be5df3e24e2d564740707\r\n",
      "    Port:           8080/TCP\r\n",
      "    Host Port:      0/TCP\r\n",
      "    State:          Running\r\n",
      "      Started:      Tue, 11 Sep 2018 14:57:00 +0200\r\n",
      "    Ready:          True\r\n",
      "    Restart Count:  0\r\n",
      "    Environment:    <none>\r\n",
      "    Mounts:\r\n",
      "      /var/run/secrets/kubernetes.io/serviceaccount from default-token-qh4bq (ro)\r\n",
      "Conditions:\r\n",
      "  Type           Status\r\n",
      "  Initialized    True \r\n",
      "  Ready          True \r\n",
      "  PodScheduled   True \r\n",
      "Volumes:\r\n",
      "  default-token-qh4bq:\r\n",
      "    Type:        Secret (a volume populated by a Secret)\r\n",
      "    SecretName:  default-token-qh4bq\r\n",
      "    Optional:    false\r\n",
      "QoS Class:       BestEffort\r\n",
      "Node-Selectors:  <none>\r\n",
      "Tolerations:     node.kubernetes.io/not-ready:NoExecute for 300s\r\n",
      "                 node.kubernetes.io/unreachable:NoExecute for 300s\r\n",
      "Events:\r\n",
      "  Type    Reason                 Age   From               Message\r\n",
      "  ----    ------                 ----  ----               -------\r\n",
      "  Normal  Scheduled              7m    default-scheduler  Successfully assigned tomcat-deployment-56ff5c79c5-ksxjr to minikube\r\n",
      "  Normal  SuccessfulMountVolume  7m    kubelet, minikube  MountVolume.SetUp succeeded for volume \"default-token-qh4bq\"\r\n",
      "  Normal  Pulled                 7m    kubelet, minikube  Container image \"tomcat:9.0\" already present on machine\r\n",
      "  Normal  Created                7m    kubelet, minikube  Created container\r\n",
      "  Normal  Started                7m    kubelet, minikube  Started container\r\n",
      "\r\n",
      "Name:           tomcat-deployment-56ff5c79c5-ljvdb\r\n",
      "Namespace:      default\r\n",
      "Node:           minikube/10.0.2.15\r\n",
      "Start Time:     Tue, 11 Sep 2018 14:19:42 +0200\r\n",
      "Labels:         app=tomcat\r\n",
      "                healthy=fasle\r\n",
      "                pod-template-hash=1299173571\r\n",
      "                unhealthy=true\r\n",
      "Annotations:    <none>\r\n",
      "Status:         Running\r\n",
      "IP:             172.17.0.4\r\n",
      "Controlled By:  ReplicaSet/tomcat-deployment-56ff5c79c5\r\n",
      "Containers:\r\n",
      "  tomcat:\r\n",
      "    Container ID:   docker://1da9bf0cc22aee96d2444c1521d5d8654fbf089af2ebfe6df43bda5249c041cb\r\n",
      "    Image:          tomcat:9.0\r\n",
      "    Image ID:       docker-pullable://tomcat@sha256:c9475761c26b74f7d92864f32433eba21f3718a3be9be5df3e24e2d564740707\r\n",
      "    Port:           8080/TCP\r\n",
      "    Host Port:      0/TCP\r\n",
      "    State:          Running\r\n",
      "      Started:      Tue, 11 Sep 2018 14:19:43 +0200\r\n",
      "    Ready:          True\r\n",
      "    Restart Count:  0\r\n",
      "    Environment:    <none>\r\n",
      "    Mounts:\r\n",
      "      /var/run/secrets/kubernetes.io/serviceaccount from default-token-qh4bq (ro)\r\n",
      "Conditions:\r\n",
      "  Type           Status\r\n",
      "  Initialized    True \r\n",
      "  Ready          True \r\n",
      "  PodScheduled   True \r\n",
      "Volumes:\r\n",
      "  default-token-qh4bq:\r\n",
      "    Type:        Secret (a volume populated by a Secret)\r\n",
      "    SecretName:  default-token-qh4bq\r\n",
      "    Optional:    false\r\n",
      "QoS Class:       BestEffort\r\n",
      "Node-Selectors:  <none>\r\n",
      "Tolerations:     node.kubernetes.io/not-ready:NoExecute for 300s\r\n",
      "                 node.kubernetes.io/unreachable:NoExecute for 300s\r\n",
      "Events:\r\n",
      "  Type    Reason                 Age   From               Message\r\n",
      "  ----    ------                 ----  ----               -------\r\n",
      "  Normal  Scheduled              44m   default-scheduler  Successfully assigned tomcat-deployment-56ff5c79c5-ljvdb to minikube\r\n",
      "  Normal  SuccessfulMountVolume  44m   kubelet, minikube  MountVolume.SetUp succeeded for volume \"default-token-qh4bq\"\r\n",
      "  Normal  Pulled                 44m   kubelet, minikube  Container image \"tomcat:9.0\" already present on machine\r\n",
      "  Normal  Created                44m   kubelet, minikube  Created container\r",
      "\r\n",
      "  Normal  Started                44m   kubelet, minikube  Started container\r\n",
      "\r\n",
      "Name:           tomcat-deployment-56ff5c79c5-lsk9h\r\n",
      "Namespace:      default\r\n",
      "Node:           minikube/10.0.2.15\r\n",
      "Start Time:     Tue, 11 Sep 2018 14:56:59 +0200\r\n",
      "Labels:         app=tomcat\r\n",
      "                pod-template-hash=1299173571\r\n",
      "Annotations:    <none>\r\n",
      "Status:         Running\r\n",
      "IP:             172.17.0.8\r\n",
      "Controlled By:  ReplicaSet/tomcat-deployment-56ff5c79c5\r\n",
      "Containers:\r\n",
      "  tomcat:\r\n",
      "    Container ID:   docker://1a9de0517e41551e74ad21493271a1442746e08c8b24cf3f4b8a549986de8c06\r\n",
      "    Image:          tomcat:9.0\r\n",
      "    Image ID:       docker-pullable://tomcat@sha256:c9475761c26b74f7d92864f32433eba21f3718a3be9be5df3e24e2d564740707\r\n",
      "    Port:           8080/TCP\r\n",
      "    Host Port:      0/TCP\r\n",
      "    State:          Running\r\n",
      "      Started:      Tue, 11 Sep 2018 14:57:01 +0200\r\n",
      "    Ready:          True\r\n",
      "    Restart Count:  0\r\n",
      "    Environment:    <none>\r\n",
      "    Mounts:\r\n",
      "      /var/run/secrets/kubernetes.io/serviceaccount from default-token-qh4bq (ro)\r\n",
      "Conditions:\r\n",
      "  Type           Status\r\n",
      "  Initialized    True \r\n",
      "  Ready          True \r\n",
      "  PodScheduled   True \r\n",
      "Volumes:\r\n",
      "  default-token-qh4bq:\r\n",
      "    Type:        Secret (a volume populated by a Secret)\r\n",
      "    SecretName:  default-token-qh4bq\r\n",
      "    Optional:    false\r\n",
      "QoS Class:       BestEffort\r\n",
      "Node-Selectors:  <none>\r\n",
      "Tolerations:     node.kubernetes.io/not-ready:NoExecute for 300s\r\n",
      "                 node.kubernetes.io/unreachable:NoExecute for 300s\r\n",
      "Events:\r\n",
      "  Type    Reason                 Age   From               Message\r\n",
      "  ----    ------                 ----  ----               -------\r\n",
      "  Normal  Scheduled              7m    default-scheduler  Successfully assigned tomcat-deployment-56ff5c79c5-lsk9h to minikube\r\n",
      "  Normal  SuccessfulMountVolume  7m    kubelet, minikube  MountVolume.SetUp succeeded for volume \"default-token-qh4bq\"\r\n",
      "  Normal  Pulled                 7m    kubelet, minikube  Container image \"tomcat:9.0\" already present on machine\r\n",
      "  Normal  Created                7m    kubelet, minikube  Created container\r\n",
      "  Normal  Started                7m    kubelet, minikube  Started container\r\n",
      "\r\n"
     ]
    }
   ],
   "source": [
    "!kubectl describe pod tomcat-deployment"
   ]
  },
  {
   "cell_type": "code",
   "execution_count": 21,
   "metadata": {},
   "outputs": [
    {
     "name": "stdout",
     "output_type": "stream",
     "text": [
      "Name:                     tomcat-load-balancer\r\n",
      "Namespace:                default\r\n",
      "Labels:                   app=tomcat\r\n",
      "Annotations:              <none>\r\n",
      "Selector:                 app=tomcat\r\n",
      "Type:                     LoadBalancer\r\n",
      "IP:                       10.104.114.116\r\n",
      "Port:                     <unset>  8080/TCP\r\n",
      "TargetPort:               8080/TCP\r\n",
      "NodePort:                 <unset>  30810/TCP\r\n",
      "Endpoints:                172.17.0.4:8080,172.17.0.6:8080,172.17.0.7:8080 + 1 more...\r\n",
      "Session Affinity:         None\r\n",
      "External Traffic Policy:  Cluster\r\n",
      "Events:                   <none>\r\n"
     ]
    }
   ],
   "source": [
    "!kubectl describe services tomcat-load-balancer"
   ]
  },
  {
   "cell_type": "markdown",
   "metadata": {},
   "source": [
    "<font color=red>We can  see load balancer has a public ip assigned</font>"
   ]
  },
  {
   "cell_type": "code",
   "execution_count": 23,
   "metadata": {},
   "outputs": [
    {
     "name": "stdout",
     "output_type": "stream",
     "text": [
      "NAME                DESIRED   CURRENT   UP-TO-DATE   AVAILABLE   AGE\r\n",
      "hastlecast          1         1         1            1           15m\r\n",
      "tomcat-deployment   4         4         4            4           49m\r\n"
     ]
    }
   ],
   "source": [
    "!kubectl get deployments"
   ]
  },
  {
   "cell_type": "code",
   "execution_count": 26,
   "metadata": {},
   "outputs": [
    {
     "name": "stdout",
     "output_type": "stream",
     "text": [
      "deployment \"tomcat-deployment\" successfully rolled out\r\n"
     ]
    }
   ],
   "source": [
    "!kubectl rollout status deployment tomcat-deployment"
   ]
  },
  {
   "cell_type": "code",
   "execution_count": 27,
   "metadata": {},
   "outputs": [
    {
     "name": "stdout",
     "output_type": "stream",
     "text": [
      "deployment.extensions/tomcat-deployment image updated\r\n"
     ]
    }
   ],
   "source": [
    "!kubectl set image deployment/tomcat-deployment tomcat=tomcat:9.0.1"
   ]
  },
  {
   "cell_type": "code",
   "execution_count": 30,
   "metadata": {},
   "outputs": [
    {
     "name": "stdout",
     "output_type": "stream",
     "text": [
      "deployments \"tomcat-deployment\"\r\n",
      "REVISION  CHANGE-CAUSE\r\n",
      "1         <none>\r\n",
      "2         <none>\r\n",
      "\r\n"
     ]
    }
   ],
   "source": [
    "!kubectl rollout history deployment/tomcat-deployment"
   ]
  },
  {
   "cell_type": "code",
   "execution_count": 31,
   "metadata": {},
   "outputs": [
    {
     "name": "stdout",
     "output_type": "stream",
     "text": [
      "deployments \"tomcat-deployment\" with revision #2\r\n",
      "Pod Template:\r\n",
      "  Labels:\tapp=tomcat\r\n",
      "\tpod-template-hash=138885474\r\n",
      "  Containers:\r\n",
      "   tomcat:\r\n",
      "    Image:\ttomcat:9.0.1\r\n",
      "    Port:\t8080/TCP\r\n",
      "    Host Port:\t0/TCP\r\n",
      "    Environment:\t<none>\r\n",
      "    Mounts:\t<none>\r\n",
      "  Volumes:\t<none>\r\n",
      "\r\n"
     ]
    }
   ],
   "source": [
    "!kubectl rollout history deployment/tomcat-deployment --revision=2"
   ]
  },
  {
   "cell_type": "code",
   "execution_count": null,
   "metadata": {},
   "outputs": [],
   "source": []
  }
 ],
 "metadata": {
  "kernelspec": {
   "display_name": "Python 3",
   "language": "python",
   "name": "python3"
  },
  "language_info": {
   "codemirror_mode": {
    "name": "ipython",
    "version": 3
   },
   "file_extension": ".py",
   "mimetype": "text/x-python",
   "name": "python",
   "nbconvert_exporter": "python",
   "pygments_lexer": "ipython3",
   "version": "3.6.5"
  }
 },
 "nbformat": 4,
 "nbformat_minor": 2
}
