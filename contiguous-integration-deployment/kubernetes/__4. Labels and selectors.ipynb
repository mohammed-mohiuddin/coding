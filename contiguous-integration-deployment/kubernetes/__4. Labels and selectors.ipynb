{
 "cells": [
  {
   "cell_type": "code",
   "execution_count": 1,
   "metadata": {},
   "outputs": [
    {
     "name": "stdout",
     "output_type": "stream",
     "text": [
      "NAME                                READY     STATUS    RESTARTS   AGE\r\n",
      "hastlecast-74f7dc47d8-5gxfs         1/1       Running   0          45m\r\n",
      "tomcat-deployment-57ddd98c8-5mkdx   1/1       Running   0          24m\r\n",
      "tomcat-deployment-57ddd98c8-7bb2p   1/1       Running   0          24m\r\n",
      "tomcat-deployment-57ddd98c8-pthd7   1/1       Running   0          24m\r\n",
      "tomcat-deployment-57ddd98c8-v965p   1/1       Running   0          24m\r\n"
     ]
    }
   ],
   "source": [
    "!kubectl get pods"
   ]
  },
  {
   "cell_type": "code",
   "execution_count": 2,
   "metadata": {},
   "outputs": [
    {
     "name": "stdout",
     "output_type": "stream",
     "text": [
      "NAME       STATUS    ROLES     AGE       VERSION\r\n",
      "minikube   Ready     master    4h        v1.10.0\r\n"
     ]
    }
   ],
   "source": [
    "!kubectl get nodes"
   ]
  },
  {
   "cell_type": "code",
   "execution_count": 3,
   "metadata": {},
   "outputs": [
    {
     "name": "stdout",
     "output_type": "stream",
     "text": [
      "node/minikube labeled\r\n"
     ]
    }
   ],
   "source": [
    "!kubectl label node minikube storageType=ssd"
   ]
  },
  {
   "cell_type": "code",
   "execution_count": 4,
   "metadata": {},
   "outputs": [
    {
     "name": "stdout",
     "output_type": "stream",
     "text": [
      "Name:               minikube\r\n",
      "Roles:              master\r\n",
      "Labels:             beta.kubernetes.io/arch=amd64\r\n",
      "                    beta.kubernetes.io/os=linux\r\n",
      "                    kubernetes.io/hostname=minikube\r\n",
      "                    node-role.kubernetes.io/master=\r\n",
      "                    storageType=ssd\r\n",
      "Annotations:        node.alpha.kubernetes.io/ttl=0\r\n",
      "                    volumes.kubernetes.io/controller-managed-attach-detach=true\r\n",
      "CreationTimestamp:  Tue, 11 Sep 2018 11:25:31 +0200\r\n",
      "Taints:             <none>\r\n",
      "Unschedulable:      false\r\n",
      "Conditions:\r\n",
      "  Type             Status  LastHeartbeatTime                 LastTransitionTime                Reason                       Message\r\n",
      "  ----             ------  -----------------                 ------------------                ------                       -------\r\n",
      "  OutOfDisk        False   Tue, 11 Sep 2018 15:41:00 +0200   Tue, 11 Sep 2018 11:25:21 +0200   KubeletHasSufficientDisk     kubelet has sufficient disk space available\r\n",
      "  MemoryPressure   False   Tue, 11 Sep 2018 15:41:00 +0200   Tue, 11 Sep 2018 11:25:21 +0200   KubeletHasSufficientMemory   kubelet has sufficient memory available\r\n",
      "  DiskPressure     False   Tue, 11 Sep 2018 15:41:00 +0200   Tue, 11 Sep 2018 11:25:21 +0200   KubeletHasNoDiskPressure     kubelet has no disk pressure\r\n",
      "  PIDPressure      False   Tue, 11 Sep 2018 15:41:00 +0200   Tue, 11 Sep 2018 11:25:21 +0200   KubeletHasSufficientPID      kubelet has sufficient PID available\r\n",
      "  Ready            True    Tue, 11 Sep 2018 15:41:00 +0200   Tue, 11 Sep 2018 11:25:21 +0200   KubeletReady                 kubelet is posting ready status\r\n",
      "Addresses:\r\n",
      "  InternalIP:  10.0.2.15\r\n",
      "  Hostname:    minikube\r\n",
      "Capacity:\r\n",
      " cpu:                2\r\n",
      " ephemeral-storage:  16888216Ki\r\n",
      " hugepages-2Mi:      0\r\n",
      " memory:             2038624Ki\r\n",
      " pods:               110\r\n",
      "Allocatable:\r\n",
      " cpu:                2\r\n",
      " ephemeral-storage:  15564179840\r\n",
      " hugepages-2Mi:      0\r\n",
      " memory:             1936224Ki\r\n",
      " pods:               110\r\n",
      "System Info:\r\n",
      " Machine ID:                 019309588c494d8bbd37318d268c1362\r\n",
      " System UUID:                3743D243-D38E-4170-944C-8841F8D2A4E5\r\n",
      " Boot ID:                    85f21ca2-abf4-49fa-a403-62a66be00d31\r\n",
      " Kernel Version:             4.15.0\r\n",
      " OS Image:                   Buildroot 2018.05\r\n",
      " Operating System:           linux\r\n",
      " Architecture:               amd64\r\n",
      " Container Runtime Version:  docker://17.12.1-ce\r\n",
      " Kubelet Version:            v1.10.0\r\n",
      " Kube-Proxy Version:         v1.10.0\r\n",
      "Non-terminated Pods:         (14 in total)\r\n",
      "  Namespace                  Name                                     CPU Requests  CPU Limits  Memory Requests  Memory Limits\r\n",
      "  ---------                  ----                                     ------------  ----------  ---------------  -------------\r\n",
      "  default                    hastlecast-74f7dc47d8-5gxfs              0 (0%)        0 (0%)      0 (0%)           0 (0%)\r\n",
      "  default                    tomcat-deployment-57ddd98c8-5mkdx        0 (0%)        0 (0%)      0 (0%)           0 (0%)\r\n",
      "  default                    tomcat-deployment-57ddd98c8-7bb2p        0 (0%)        0 (0%)      0 (0%)           0 (0%)\r\n",
      "  default                    tomcat-deployment-57ddd98c8-pthd7        0 (0%)        0 (0%)      0 (0%)           0 (0%)\r\n",
      "  default                    tomcat-deployment-57ddd98c8-v965p        0 (0%)        0 (0%)      0 (0%)           0 (0%)\r\n",
      "  kube-system                etcd-minikube                            0 (0%)        0 (0%)      0 (0%)           0 (0%)\r\n",
      "  kube-system                kube-addon-manager-minikube              5m (0%)       0 (0%)      50Mi (2%)        0 (0%)\r\n",
      "  kube-system                kube-apiserver-minikube                  250m (12%)    0 (0%)      0 (0%)           0 (0%)\r\n",
      "  kube-system                kube-controller-manager-minikube         200m (10%)    0 (0%)      0 (0%)           0 (0%)\r\n",
      "  kube-system                kube-dns-86f4d74b45-qfv7q                260m (13%)    0 (0%)      110Mi (5%)       170Mi (8%)\r\n",
      "  kube-system                kube-proxy-4vbdj                         0 (0%)        0 (0%)      0 (0%)           0 (0%)\r\n",
      "  kube-system                kube-scheduler-minikube                  100m (5%)     0 (0%)      0 (0%)           0 (0%)\r\n",
      "  kube-system                kubernetes-dashboard-5498ccf677-qw6mf    0 (0%)        0 (0%)      0 (0%)           0 (0%)\r\n",
      "  kube-system                storage-provisioner                      0 (0%)        0 (0%)      0 (0%)           0 (0%)\r\n",
      "Allocated resources:\r\n",
      "  (Total limits may be over 100 percent, i.e., overcommitted.)\r\n",
      "  Resource  Requests    Limits\r\n",
      "  --------  --------    ------\r\n",
      "  cpu       815m (40%)  0 (0%)\r\n",
      "  memory    160Mi (8%)  170Mi (8%)\r\n",
      "Events:     <none>\r\n"
     ]
    }
   ],
   "source": [
    "!kubectl describe node minikube"
   ]
  },
  {
   "cell_type": "markdown",
   "metadata": {},
   "source": [
    "<font color=red>We can see storageType label is added to the node</font>"
   ]
  },
  {
   "cell_type": "code",
   "execution_count": 5,
   "metadata": {},
   "outputs": [
    {
     "name": "stdout",
     "output_type": "stream",
     "text": [
      "apiVersion: apps/v1beta2\r\n",
      "kind: Deployment\r\n",
      "metadata:\r\n",
      "  name: tomcat-deployment\r\n",
      "spec:\r\n",
      "  selector:\r\n",
      "    matchLabels:\r\n",
      "      app: tomcat\r\n",
      "  replicas: 1\r\n",
      "  template:\r\n",
      "    metadata:\r\n",
      "      labels:\r\n",
      "        app: tomcat\r\n",
      "    spec:\r\n",
      "      containers:\r\n",
      "      - name: tomcat\r\n",
      "        image: tomcat:9.0\r\n",
      "        ports:\r\n",
      "        - containerPort: 8080"
     ]
    }
   ],
   "source": [
    "!cat deployment.yaml"
   ]
  },
  {
   "cell_type": "markdown",
   "metadata": {},
   "source": [
    "<font color=red>We shall add nodeSelector to this</font>"
   ]
  },
  {
   "cell_type": "code",
   "execution_count": 9,
   "metadata": {},
   "outputs": [
    {
     "name": "stdout",
     "output_type": "stream",
     "text": [
      "apiVersion: apps/v1beta2\r\n",
      "kind: Deployment\r\n",
      "metadata:\r\n",
      "  name: tomcat-deployment\r\n",
      "spec:\r\n",
      "  selector:\r\n",
      "    matchLabels:\r\n",
      "      app: tomcat\r\n",
      "  replicas: 1\r\n",
      "  template:\r\n",
      "    metadata:\r\n",
      "      labels:\r\n",
      "        app: tomcat\r\n",
      "    spec:\r\n",
      "      containers:\r\n",
      "      - name: tomcat\r\n",
      "        image: tomcat:9.0\r\n",
      "        ports:\r\n",
      "        - containerPort: 8080\r\n",
      "      nodeSelector:\r\n",
      "        storageType: ssd"
     ]
    }
   ],
   "source": [
    "!cat deployment.yaml"
   ]
  },
  {
   "cell_type": "code",
   "execution_count": 10,
   "metadata": {},
   "outputs": [
    {
     "name": "stdout",
     "output_type": "stream",
     "text": [
      "deployment.apps/tomcat-deployment configured\r\n"
     ]
    }
   ],
   "source": [
    "!kubectl apply -f ./deployment.yaml"
   ]
  },
  {
   "cell_type": "markdown",
   "metadata": {},
   "source": [
    "<font color=red>Kubernetes will create a deployment with only those nodes which have the label storageType: ssd</font>"
   ]
  },
  {
   "cell_type": "code",
   "execution_count": null,
   "metadata": {},
   "outputs": [],
   "source": []
  }
 ],
 "metadata": {
  "kernelspec": {
   "display_name": "Python 3",
   "language": "python",
   "name": "python3"
  },
  "language_info": {
   "codemirror_mode": {
    "name": "ipython",
    "version": 3
   },
   "file_extension": ".py",
   "mimetype": "text/x-python",
   "name": "python",
   "nbconvert_exporter": "python",
   "pygments_lexer": "ipython3",
   "version": "3.6.5"
  }
 },
 "nbformat": 4,
 "nbformat_minor": 2
}
