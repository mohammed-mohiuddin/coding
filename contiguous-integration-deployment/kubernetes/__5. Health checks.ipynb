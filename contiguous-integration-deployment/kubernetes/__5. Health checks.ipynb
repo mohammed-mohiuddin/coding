{
 "cells": [
  {
   "cell_type": "code",
   "execution_count": 1,
   "metadata": {},
   "outputs": [
    {
     "name": "stdout",
     "output_type": "stream",
     "text": [
      "apiVersion: apps/v1beta2\r\n",
      "kind: Deployment\r\n",
      "metadata:\r\n",
      "  name: tomcat-deployment\r\n",
      "spec:\r\n",
      "  selector:\r\n",
      "    matchLabels:\r\n",
      "      app: tomcat\r\n",
      "  replicas: 4\r\n",
      "  template:\r\n",
      "    metadata:\r\n",
      "      labels:\r\n",
      "        app: tomcat\r\n",
      "    spec:\r\n",
      "      containers:\r\n",
      "      - name: tomcat\r\n",
      "        image: tomcat:9.0\r\n",
      "        ports:\r\n",
      "        - containerPort: 8080\r\n",
      "        livenessProbe:\r\n",
      "          httpGet:\r\n",
      "            path: /\r\n",
      "            port: 8080\r\n",
      "          initialDelaySeconds: 30\r\n",
      "          periodSeconds: 30\r\n",
      "        readinessProbe:\r\n",
      "          httpGet:\r\n",
      "            path: /\r\n",
      "            port: 8080\r\n",
      "          initialDelaySeconds: 15\r\n",
      "          periodSeconds: 3"
     ]
    }
   ],
   "source": [
    "!cat deployment_healthchecks.yaml"
   ]
  },
  {
   "cell_type": "code",
   "execution_count": 2,
   "metadata": {},
   "outputs": [
    {
     "name": "stdout",
     "output_type": "stream",
     "text": [
      "deployment.apps/tomcat-deployment configured\r\n"
     ]
    }
   ],
   "source": [
    "!kubectl apply -f ./deployment_healthchecks.yaml"
   ]
  },
  {
   "cell_type": "code",
   "execution_count": 3,
   "metadata": {},
   "outputs": [
    {
     "name": "stdout",
     "output_type": "stream",
     "text": [
      "Name:                   tomcat-deployment\r\n",
      "Namespace:              default\r\n",
      "CreationTimestamp:      Tue, 11 Sep 2018 14:19:42 +0200\r\n",
      "Labels:                 app=tomcat\r\n",
      "Annotations:            deployment.kubernetes.io/revision=4\r\n",
      "                        kubectl.kubernetes.io/last-applied-configuration={\"apiVersion\":\"apps/v1beta2\",\"kind\":\"Deployment\",\"metadata\":{\"annotations\":{},\"name\":\"tomcat-deployment\",\"namespace\":\"default\"},\"spec\":{\"replicas\":4,\"s...\r\n",
      "Selector:               app=tomcat\r\n",
      "Replicas:               4 desired | 4 updated | 4 total | 4 available | 0 unavailable\r\n",
      "StrategyType:           RollingUpdate\r\n",
      "MinReadySeconds:        0\r\n",
      "RollingUpdateStrategy:  25% max unavailable, 25% max surge\r\n",
      "Pod Template:\r\n",
      "  Labels:  app=tomcat\r\n",
      "  Containers:\r\n",
      "   tomcat:\r\n",
      "    Image:        tomcat:9.0\r\n",
      "    Port:         8080/TCP\r\n",
      "    Host Port:    0/TCP\r\n",
      "    Liveness:     http-get http://:8080/ delay=30s timeout=1s period=30s #success=1 #failure=3\r\n",
      "    Readiness:    http-get http://:8080/ delay=15s timeout=1s period=3s #success=1 #failure=3\r\n",
      "    Environment:  <none>\r\n",
      "    Mounts:       <none>\r\n",
      "  Volumes:        <none>\r\n",
      "Conditions:\r\n",
      "  Type           Status  Reason\r\n",
      "  ----           ------  ------\r\n",
      "  Available      True    MinimumReplicasAvailable\r\n",
      "  Progressing    True    NewReplicaSetAvailable\r\n",
      "OldReplicaSets:  <none>\r\n",
      "NewReplicaSet:   tomcat-deployment-84bc588dcd (4/4 replicas created)\r\n",
      "Events:\r\n",
      "  Type    Reason             Age   From                   Message\r\n",
      "  ----    ------             ----  ----                   -------\r\n",
      "  Normal  ScalingReplicaSet  44m   deployment-controller  Scaled up replica set tomcat-deployment-57ddd98c8 to 1\r\n",
      "  Normal  ScalingReplicaSet  44m   deployment-controller  Scaled down replica set tomcat-deployment-56ff5c79c5 to 3\r\n",
      "  Normal  ScalingReplicaSet  44m   deployment-controller  Scaled up replica set tomcat-deployment-57ddd98c8 to 2\r\n",
      "  Normal  ScalingReplicaSet  44m   deployment-controller  Scaled down replica set tomcat-deployment-56ff5c79c5 to 2\r\n",
      "  Normal  ScalingReplicaSet  44m   deployment-controller  Scaled up replica set tomcat-deployment-57ddd98c8 to 3\r\n",
      "  Normal  ScalingReplicaSet  44m   deployment-controller  Scaled down replica set tomcat-deployment-56ff5c79c5 to 1\r\n",
      "  Normal  ScalingReplicaSet  44m   deployment-controller  Scaled up replica set tomcat-deployment-57ddd98c8 to 4\r\n",
      "  Normal  ScalingReplicaSet  44m   deployment-controller  Scaled down replica set tomcat-deployment-56ff5c79c5 to 0\r\n",
      "  Normal  ScalingReplicaSet  11m   deployment-controller  Scaled down replica set tomcat-deployment-57ddd98c8 to 1\r\n",
      "  Normal  ScalingReplicaSet  11m   deployment-controller  Scaled up replica set tomcat-deployment-6fc579cb4c to 1\r\n",
      "  Normal  ScalingReplicaSet  11m   deployment-controller  Scaled down replica set tomcat-deployment-57ddd98c8 to 0\r\n",
      "  Normal  ScalingReplicaSet  55s   deployment-controller  Scaled up replica set tomcat-deployment-6fc579cb4c to 4\r\n",
      "  Normal  ScalingReplicaSet  55s   deployment-controller  Scaled up replica set tomcat-deployment-84bc588dcd to 1\r\n",
      "  Normal  ScalingReplicaSet  55s   deployment-controller  Scaled down replica set tomcat-deployment-6fc579cb4c to 3\r\n",
      "  Normal  ScalingReplicaSet  55s   deployment-controller  Scaled up replica set tomcat-deployment-84bc588dcd to 2\r\n",
      "  Normal  ScalingReplicaSet  34s   deployment-controller  Scaled down replica set tomcat-deployment-6fc579cb4c to 2\r\n",
      "  Normal  ScalingReplicaSet  34s   deployment-controller  Scaled up replica set tomcat-deployment-84bc588dcd to 3\r\n",
      "  Normal  ScalingReplicaSet  33s   deployment-controller  Scaled down replica set tomcat-deployment-6fc579cb4c to 1\r\n",
      "  Normal  ScalingReplicaSet  33s   deployment-controller  Scaled up replica set tomcat-deployment-84bc588dcd to 4\r\n",
      "  Normal  ScalingReplicaSet  13s   deployment-controller  Scaled down replica set tomcat-deployment-6fc579cb4c to 0\r\n"
     ]
    }
   ],
   "source": [
    "!kubectl describe deployment tomcat-deployment"
   ]
  },
  {
   "cell_type": "code",
   "execution_count": null,
   "metadata": {},
   "outputs": [],
   "source": []
  }
 ],
 "metadata": {
  "kernelspec": {
   "display_name": "Python 3",
   "language": "python",
   "name": "python3"
  },
  "language_info": {
   "codemirror_mode": {
    "name": "ipython",
    "version": 3
   },
   "file_extension": ".py",
   "mimetype": "text/x-python",
   "name": "python",
   "nbconvert_exporter": "python",
   "pygments_lexer": "ipython3",
   "version": "3.6.5"
  }
 },
 "nbformat": 4,
 "nbformat_minor": 2
}
