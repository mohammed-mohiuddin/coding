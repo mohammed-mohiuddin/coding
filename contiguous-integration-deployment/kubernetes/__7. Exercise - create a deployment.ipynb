{
 "cells": [
  {
   "cell_type": "code",
   "execution_count": 1,
   "metadata": {},
   "outputs": [
    {
     "name": "stdout",
     "output_type": "stream",
     "text": [
      "apiVersion: apps/v1beta2\r\n",
      "kind: Deployment\r\n",
      "metadata:\r\n",
      "  name: mongo-deployment\r\n",
      "spec:\r\n",
      "  selector:\r\n",
      "    matchLabels:\r\n",
      "      app: mongo\r\n",
      "  replicas: 1\r\n",
      "  template:\r\n",
      "    metadata:\r\n",
      "      labels:\r\n",
      "        app: mongo\r\n",
      "    spec:\r\n",
      "      containers:\r\n",
      "      - name: mongo\r\n",
      "        image: mongo:latest\r\n",
      "        ports:\r\n",
      "        - containerPort: 27017\r\n",
      "      nodeSelector:\r\n",
      "        storageType: ssd"
     ]
    }
   ],
   "source": [
    "!cat deployment_exercise1.yaml"
   ]
  },
  {
   "cell_type": "code",
   "execution_count": 2,
   "metadata": {},
   "outputs": [
    {
     "name": "stdout",
     "output_type": "stream",
     "text": [
      "deployment.apps/mongo-deployment created\r\n"
     ]
    }
   ],
   "source": [
    "!kubectl apply -f ./deployment_exercise1.yaml"
   ]
  },
  {
   "cell_type": "code",
   "execution_count": 4,
   "metadata": {},
   "outputs": [
    {
     "name": "stdout",
     "output_type": "stream",
     "text": [
      "NAME                                 READY     STATUS    RESTARTS   AGE\r\n",
      "hastlecast-74f7dc47d8-5gxfs          1/1       Running   0          1h\r\n",
      "mongo-deployment-6b95c959d-29bvz     1/1       Running   0          1m\r\n",
      "tomcat-deployment-84bc588dcd-2hjgf   1/1       Running   0          28m\r\n",
      "tomcat-deployment-84bc588dcd-b7q8m   1/1       Running   0          28m\r\n",
      "tomcat-deployment-84bc588dcd-nfn8n   1/1       Running   0          28m\r\n",
      "tomcat-deployment-84bc588dcd-nlxg5   1/1       Running   0          28m\r\n"
     ]
    }
   ],
   "source": [
    "!kubectl get pods"
   ]
  },
  {
   "cell_type": "code",
   "execution_count": 5,
   "metadata": {},
   "outputs": [
    {
     "name": "stdout",
     "output_type": "stream",
     "text": [
      "deployment.extensions/mongo-deployment scaled\r\n"
     ]
    }
   ],
   "source": [
    "!kubectl scale --replicas=4 deployment/mongo-deployment"
   ]
  },
  {
   "cell_type": "code",
   "execution_count": 6,
   "metadata": {},
   "outputs": [
    {
     "name": "stdout",
     "output_type": "stream",
     "text": [
      "NAME                                 READY     STATUS    RESTARTS   AGE\r\n",
      "hastlecast-74f7dc47d8-5gxfs          1/1       Running   0          1h\r\n",
      "mongo-deployment-6b95c959d-29bvz     1/1       Running   0          2m\r\n",
      "mongo-deployment-6b95c959d-mfz5s     1/1       Running   0          14s\r\n",
      "mongo-deployment-6b95c959d-rjhhn     1/1       Running   0          14s\r\n",
      "mongo-deployment-6b95c959d-xdr5w     1/1       Running   0          14s\r\n",
      "tomcat-deployment-84bc588dcd-2hjgf   1/1       Running   0          29m\r\n",
      "tomcat-deployment-84bc588dcd-b7q8m   1/1       Running   0          29m\r\n",
      "tomcat-deployment-84bc588dcd-nfn8n   1/1       Running   0          29m\r\n",
      "tomcat-deployment-84bc588dcd-nlxg5   1/1       Running   0          29m\r\n"
     ]
    }
   ],
   "source": [
    "!kubectl get pods"
   ]
  },
  {
   "cell_type": "markdown",
   "metadata": {},
   "source": [
    "#### Other way"
   ]
  },
  {
   "cell_type": "code",
   "execution_count": 9,
   "metadata": {},
   "outputs": [
    {
     "name": "stdout",
     "output_type": "stream",
     "text": [
      "deployment.apps/mongodb created\r\n"
     ]
    }
   ],
   "source": [
    "!kubectl run mongodb --image=mongo:latest --port=27017"
   ]
  },
  {
   "cell_type": "code",
   "execution_count": 10,
   "metadata": {},
   "outputs": [
    {
     "name": "stdout",
     "output_type": "stream",
     "text": [
      "deployment.extensions/mongodb scaled\r\n"
     ]
    }
   ],
   "source": [
    "!kubectl scale --replicas=4 deployment/mongodb"
   ]
  },
  {
   "cell_type": "code",
   "execution_count": 11,
   "metadata": {},
   "outputs": [
    {
     "name": "stdout",
     "output_type": "stream",
     "text": [
      "NAME                                 READY     STATUS    RESTARTS   AGE\r\n",
      "hastlecast-74f7dc47d8-5gxfs          1/1       Running   0          1h\r\n",
      "mongo-deployment-6b95c959d-29bvz     1/1       Running   0          5m\r\n",
      "mongo-deployment-6b95c959d-mfz5s     1/1       Running   0          3m\r\n",
      "mongo-deployment-6b95c959d-rjhhn     1/1       Running   0          3m\r\n",
      "mongo-deployment-6b95c959d-xdr5w     1/1       Running   0          3m\r\n",
      "mongodb-b6dd7c8c4-7vqw8              1/1       Running   0          11s\r\n",
      "mongodb-b6dd7c8c4-dsqzc              1/1       Running   0          36s\r\n",
      "mongodb-b6dd7c8c4-f6zg9              1/1       Running   0          11s\r\n",
      "mongodb-b6dd7c8c4-zrq8q              1/1       Running   0          11s\r\n",
      "tomcat-deployment-84bc588dcd-2hjgf   1/1       Running   0          32m\r\n",
      "tomcat-deployment-84bc588dcd-b7q8m   1/1       Running   0          32m\r\n",
      "tomcat-deployment-84bc588dcd-nfn8n   1/1       Running   0          32m\r\n",
      "tomcat-deployment-84bc588dcd-nlxg5   1/1       Running   0          32m\r\n"
     ]
    }
   ],
   "source": [
    "!kubectl get pods"
   ]
  },
  {
   "cell_type": "code",
   "execution_count": null,
   "metadata": {},
   "outputs": [],
   "source": []
  }
 ],
 "metadata": {
  "kernelspec": {
   "display_name": "Python 3",
   "language": "python",
   "name": "python3"
  },
  "language_info": {
   "codemirror_mode": {
    "name": "ipython",
    "version": 3
   },
   "file_extension": ".py",
   "mimetype": "text/x-python",
   "name": "python",
   "nbconvert_exporter": "python",
   "pygments_lexer": "ipython3",
   "version": "3.6.5"
  }
 },
 "nbformat": 4,
 "nbformat_minor": 2
}
