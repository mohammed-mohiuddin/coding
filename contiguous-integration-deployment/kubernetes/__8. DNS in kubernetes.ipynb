{
 "cells": [
  {
   "cell_type": "markdown",
   "metadata": {},
   "source": [
    "### Deploy mysql"
   ]
  },
  {
   "cell_type": "code",
   "execution_count": 9,
   "metadata": {},
   "outputs": [
    {
     "name": "stdout",
     "output_type": "stream",
     "text": [
      "Stopping local Kubernetes cluster...\n",
      "Machine stopped.\n"
     ]
    }
   ],
   "source": [
    "!minikube stop"
   ]
  },
  {
   "cell_type": "code",
   "execution_count": 10,
   "metadata": {},
   "outputs": [
    {
     "name": "stdout",
     "output_type": "stream",
     "text": [
      "minikube: Stopped\r\n",
      "cluster: \r\n",
      "kubectl: \r\n"
     ]
    }
   ],
   "source": [
    "!minikube status"
   ]
  },
  {
   "cell_type": "code",
   "execution_count": 11,
   "metadata": {
    "scrolled": true
   },
   "outputs": [
    {
     "name": "stdout",
     "output_type": "stream",
     "text": [
      "Starting local Kubernetes v1.10.0 cluster...\n",
      "Starting VM...\n",
      "Getting VM IP address...\n",
      "Moving files into cluster...\n",
      "Setting up certs...\n",
      "Connecting to cluster...\n",
      "Setting up kubeconfig...\n",
      "Starting cluster components...\n",
      "Kubectl is now configured to use the cluster.\n",
      "Loading cached images from config file.\n"
     ]
    }
   ],
   "source": [
    "!minikube start"
   ]
  },
  {
   "cell_type": "code",
   "execution_count": 12,
   "metadata": {
    "scrolled": true
   },
   "outputs": [
    {
     "name": "stdout",
     "output_type": "stream",
     "text": [
      "NAME                                 READY     STATUS              RESTARTS   AGE\r\n",
      "hastlecast-74f7dc47d8-5gxfs          1/1       Running             2          2h\r\n",
      "mongo-deployment-6b95c959d-29bvz     0/1       MatchNodeSelector   0          1h\r\n",
      "mongo-deployment-6b95c959d-mfz5s     1/1       Running             2          1h\r\n",
      "mongo-deployment-6b95c959d-rjhhn     1/1       Running             2          1h\r\n",
      "mongo-deployment-6b95c959d-x9567     1/1       Running             0          27s\r\n",
      "mongo-deployment-6b95c959d-xdr5w     1/1       Running             2          1h\r\n",
      "mongodb-b6dd7c8c4-7vqw8              1/1       Running             2          1h\r\n",
      "mongodb-b6dd7c8c4-dsqzc              1/1       Running             2          1h\r\n",
      "mongodb-b6dd7c8c4-f6zg9              1/1       Running             2          1h\r\n",
      "mongodb-b6dd7c8c4-zrq8q              1/1       Running             2          1h\r\n",
      "tomcat-deployment-84bc588dcd-2hjgf   0/1       Running             3          1h\r\n",
      "tomcat-deployment-84bc588dcd-b7q8m   0/1       Running             3          1h\r\n",
      "tomcat-deployment-84bc588dcd-nfn8n   0/1       Running             4          1h\r\n",
      "tomcat-deployment-84bc588dcd-nlxg5   0/1       Running             3          1h\r\n",
      "wordpress-7bdfd5557c-h7ncx           1/1       Running             3          14m\r\n",
      "wordpress-mysql-bcc89f687-q7kvr      1/1       Running             2          13m\r\n"
     ]
    }
   ],
   "source": [
    "!kubectl get pods"
   ]
  },
  {
   "cell_type": "code",
   "execution_count": 18,
   "metadata": {},
   "outputs": [
    {
     "name": "stdout",
     "output_type": "stream",
     "text": [
      "deployment.extensions \"hastlecast\" deleted\r\n"
     ]
    }
   ],
   "source": [
    "!kubectl delete deployment hastlecast"
   ]
  },
  {
   "cell_type": "code",
   "execution_count": 19,
   "metadata": {},
   "outputs": [
    {
     "name": "stdout",
     "output_type": "stream",
     "text": [
      "deployment.extensions \"tomcat-deployment\" deleted\r\n"
     ]
    }
   ],
   "source": [
    "!kubectl delete deployment tomcat-deployment"
   ]
  },
  {
   "cell_type": "code",
   "execution_count": 20,
   "metadata": {},
   "outputs": [
    {
     "name": "stdout",
     "output_type": "stream",
     "text": [
      "deployment.extensions \"mongodb\" deleted\r\n"
     ]
    }
   ],
   "source": [
    "!kubectl delete deployment mongodb"
   ]
  },
  {
   "cell_type": "code",
   "execution_count": 24,
   "metadata": {},
   "outputs": [
    {
     "name": "stdout",
     "output_type": "stream",
     "text": [
      "NAME                               READY     STATUS              RESTARTS   AGE\r\n",
      "mongo-deployment-6b95c959d-29bvz   0/1       MatchNodeSelector   0          1h\r\n",
      "mongo-deployment-6b95c959d-mfz5s   1/1       Running             2          1h\r\n",
      "mongo-deployment-6b95c959d-rjhhn   1/1       Running             2          1h\r\n",
      "mongo-deployment-6b95c959d-x9567   1/1       Running             0          9m\r\n",
      "mongo-deployment-6b95c959d-xdr5w   1/1       Running             2          1h\r\n",
      "wordpress-7bdfd5557c-h7ncx         0/1       CrashLoopBackOff    4          22m\r\n",
      "wordpress-mysql-bcc89f687-q7kvr    1/1       Running             2          21m\r\n"
     ]
    }
   ],
   "source": [
    "!kubectl get pods"
   ]
  },
  {
   "cell_type": "code",
   "execution_count": 25,
   "metadata": {},
   "outputs": [
    {
     "name": "stdout",
     "output_type": "stream",
     "text": [
      "deployment.extensions \"mongo-deployment\" deleted\r\n"
     ]
    }
   ],
   "source": [
    "!kubectl delete deployment mongo-deployment"
   ]
  },
  {
   "cell_type": "code",
   "execution_count": 29,
   "metadata": {},
   "outputs": [
    {
     "name": "stdout",
     "output_type": "stream",
     "text": [
      "NAME                              READY     STATUS             RESTARTS   AGE\r\n",
      "wordpress-7bdfd5557c-h7ncx        0/1       CrashLoopBackOff   4          24m\r\n",
      "wordpress-mysql-bcc89f687-q7kvr   1/1       Running            2          23m\r\n"
     ]
    }
   ],
   "source": [
    "!kubectl get pods"
   ]
  },
  {
   "cell_type": "code",
   "execution_count": 30,
   "metadata": {},
   "outputs": [
    {
     "name": "stdout",
     "output_type": "stream",
     "text": [
      "deployment.extensions \"wordpress\" deleted\r\n"
     ]
    }
   ],
   "source": [
    "!kubectl delete deployment wordpress"
   ]
  },
  {
   "cell_type": "code",
   "execution_count": 40,
   "metadata": {},
   "outputs": [
    {
     "name": "stdout",
     "output_type": "stream",
     "text": [
      "deployment.extensions \"wordpress-mysql\" deleted\r\n"
     ]
    }
   ],
   "source": [
    "!kubectl delete deployment wordpress-mysql"
   ]
  },
  {
   "cell_type": "code",
   "execution_count": 41,
   "metadata": {},
   "outputs": [
    {
     "name": "stdout",
     "output_type": "stream",
     "text": [
      "No resources found.\r\n"
     ]
    }
   ],
   "source": [
    "!kubectl get pods"
   ]
  },
  {
   "cell_type": "code",
   "execution_count": 48,
   "metadata": {},
   "outputs": [
    {
     "name": "stdout",
     "output_type": "stream",
     "text": [
      "Error from server (AlreadyExists): error when creating \"./mysql-deployment.yaml\": services \"wordpress-mysql\" already exists\r\n",
      "Error from server (AlreadyExists): error when creating \"./mysql-deployment.yaml\": persistentvolumeclaims \"mysql-pv-claim\" already exists\r\n",
      "Error from server (AlreadyExists): error when creating \"./mysql-deployment.yaml\": deployments.apps \"wordpress-mysql\" already exists\r\n"
     ]
    }
   ],
   "source": [
    "!kubectl create -f ./mysql-deployment.yaml"
   ]
  },
  {
   "cell_type": "code",
   "execution_count": 49,
   "metadata": {},
   "outputs": [
    {
     "name": "stdout",
     "output_type": "stream",
     "text": [
      "Error from server (AlreadyExists): error when creating \"./wordpress-deployment.yaml\": services \"wordpress\" already exists\r\n",
      "Error from server (AlreadyExists): error when creating \"./wordpress-deployment.yaml\": persistentvolumeclaims \"wp-pv-claim\" already exists\r\n",
      "Error from server (AlreadyExists): error when creating \"./wordpress-deployment.yaml\": deployments.apps \"wordpress\" already exists\r\n"
     ]
    }
   ],
   "source": [
    "!kubectl create -f ./wordpress-deployment.yaml"
   ]
  },
  {
   "cell_type": "code",
   "execution_count": 50,
   "metadata": {},
   "outputs": [
    {
     "name": "stdout",
     "output_type": "stream",
     "text": [
      "NAME                              READY     STATUS             RESTARTS   AGE\r\n",
      "wordpress-7bdfd5557c-vp7wd        0/1       CrashLoopBackOff   174        15h\r\n",
      "wordpress-mysql-bcc89f687-26jgj   1/1       Running            0          15h\r\n"
     ]
    }
   ],
   "source": [
    "!kubectl get pods"
   ]
  },
  {
   "cell_type": "code",
   "execution_count": 51,
   "metadata": {},
   "outputs": [
    {
     "name": "stdout",
     "output_type": "stream",
     "text": [
      "NAME        TYPE           CLUSTER-IP       EXTERNAL-IP   PORT(S)        AGE\r\n",
      "wordpress   LoadBalancer   10.110.153.144   <pending>     80:31649/TCP   16h\r\n"
     ]
    }
   ],
   "source": [
    "!kubectl get services wordpress"
   ]
  },
  {
   "cell_type": "code",
   "execution_count": 52,
   "metadata": {},
   "outputs": [
    {
     "name": "stdout",
     "output_type": "stream",
     "text": [
      "Waiting, endpoint for service is not ready yet...\n",
      "^C\n"
     ]
    }
   ],
   "source": [
    "!minikube service wordpress --url"
   ]
  },
  {
   "cell_type": "markdown",
   "metadata": {},
   "source": [
    "### Cleanup"
   ]
  },
  {
   "cell_type": "code",
   "execution_count": 53,
   "metadata": {},
   "outputs": [
    {
     "name": "stdout",
     "output_type": "stream",
     "text": [
      "secret \"mysql-pass\" deleted\r\n"
     ]
    }
   ],
   "source": [
    "!kubectl delete secret mysql-pass"
   ]
  },
  {
   "cell_type": "code",
   "execution_count": 54,
   "metadata": {},
   "outputs": [
    {
     "name": "stdout",
     "output_type": "stream",
     "text": [
      "deployment.extensions \"wordpress\" deleted\n",
      "deployment.extensions \"wordpress-mysql\" deleted\n",
      "service \"wordpress\" deleted\n",
      "service \"wordpress-mysql\" deleted\n"
     ]
    }
   ],
   "source": [
    "%%bash\n",
    "kubectl delete deployment -l app=wordpress\n",
    "kubectl delete service -l app=wordpress"
   ]
  },
  {
   "cell_type": "code",
   "execution_count": 55,
   "metadata": {},
   "outputs": [
    {
     "name": "stdout",
     "output_type": "stream",
     "text": [
      "persistentvolumeclaim \"mysql-pv-claim\" deleted\r\n",
      "persistentvolumeclaim \"wp-pv-claim\" deleted\r\n"
     ]
    }
   ],
   "source": [
    "!kubectl delete pvc -l app=wordpress"
   ]
  },
  {
   "cell_type": "code",
   "execution_count": null,
   "metadata": {},
   "outputs": [],
   "source": []
  }
 ],
 "metadata": {
  "kernelspec": {
   "display_name": "Python 3",
   "language": "python",
   "name": "python3"
  },
  "language_info": {
   "codemirror_mode": {
    "name": "ipython",
    "version": 3
   },
   "file_extension": ".py",
   "mimetype": "text/x-python",
   "name": "python",
   "nbconvert_exporter": "python",
   "pygments_lexer": "ipython3",
   "version": "3.6.5"
  }
 },
 "nbformat": 4,
 "nbformat_minor": 2
}
