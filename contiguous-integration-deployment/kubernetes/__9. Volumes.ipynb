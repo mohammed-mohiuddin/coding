{
 "cells": [
  {
   "cell_type": "code",
   "execution_count": 2,
   "metadata": {},
   "outputs": [
    {
     "name": "stdout",
     "output_type": "stream",
     "text": [
      "apiVersion: v1\r\n",
      "kind: PersistentVolume\r\n",
      "metadata:\r\n",
      "  name: local-pv-1\r\n",
      "  labels:\r\n",
      "    type: local\r\n",
      "spec:\r\n",
      "  capacity:\r\n",
      "    storage: 20Gi\r\n",
      "  accessModes:\r\n",
      "    - ReadWriteOnce\r\n",
      "  hostPath:\r\n",
      "    path: /tmp/data/pv-1\r\n",
      "---\r\n",
      "apiVersion: v1\r\n",
      "kind: PersistentVolume\r\n",
      "metadata:\r\n",
      "  name: local-pv-2\r\n",
      "  labels:\r\n",
      "    type: local\r\n",
      "spec:\r\n",
      "  capacity:\r\n",
      "    storage: 20Gi\r\n",
      "  accessModes:\r\n",
      "    - ReadWriteOnce\r\n",
      "  hostPath:\r\n",
      "    path: /tmp/data/pv-2\r\n"
     ]
    }
   ],
   "source": [
    "!cat local-volumes.yaml"
   ]
  },
  {
   "cell_type": "code",
   "execution_count": 3,
   "metadata": {},
   "outputs": [
    {
     "name": "stdout",
     "output_type": "stream",
     "text": [
      "No resources found.\r\n"
     ]
    }
   ],
   "source": [
    "!kubectl get pods"
   ]
  },
  {
   "cell_type": "code",
   "execution_count": 6,
   "metadata": {},
   "outputs": [
    {
     "name": "stdout",
     "output_type": "stream",
     "text": [
      "No resources found.\r\n"
     ]
    }
   ],
   "source": [
    "!kubectl get deployments"
   ]
  },
  {
   "cell_type": "code",
   "execution_count": 4,
   "metadata": {},
   "outputs": [
    {
     "name": "stdout",
     "output_type": "stream",
     "text": [
      "minikube: Running\r\n",
      "cluster: Running\r\n",
      "kubectl: Correctly Configured: pointing to minikube-vm at 192.168.99.101\r\n"
     ]
    }
   ],
   "source": [
    "!minikube status"
   ]
  },
  {
   "cell_type": "code",
   "execution_count": 7,
   "metadata": {},
   "outputs": [
    {
     "name": "stdout",
     "output_type": "stream",
     "text": [
      "persistentvolume/local-pv-1 created\r\n",
      "persistentvolume/local-pv-2 created\r\n"
     ]
    }
   ],
   "source": [
    "!kubectl create -f local-volumes.yaml"
   ]
  },
  {
   "cell_type": "code",
   "execution_count": 8,
   "metadata": {},
   "outputs": [
    {
     "name": "stdout",
     "output_type": "stream",
     "text": [
      "NAME                                       CAPACITY   ACCESS MODES   RECLAIM POLICY   STATUS      CLAIM                    STORAGECLASS   REASON    AGE\n",
      "local-pv-1                                 20Gi       RWO            Retain           Available                                                     1m\n",
      "local-pv-2                                 20Gi       RWO            Retain           Available                                                     1m\n",
      "pvc-640cb47f-b5d7-11e8-8b55-080027c0edcf   20Gi       RWO            Delete           Released    default/wp-pv-claim      standard                 21h\n",
      "pvc-8d320f09-b5d7-11e8-8b55-080027c0edcf   20Gi       RWO            Delete           Released    default/mysql-pv-claim   standard                 21h\n"
     ]
    }
   ],
   "source": [
    "!kubectl get persistentVolumes"
   ]
  },
  {
   "cell_type": "code",
   "execution_count": 9,
   "metadata": {},
   "outputs": [
    {
     "name": "stdout",
     "output_type": "stream",
     "text": [
      "service/wordpress-mysql created\n",
      "persistentvolumeclaim/mysql-pv-claim created\n",
      "deployment.apps/wordpress-mysql created\n"
     ]
    }
   ],
   "source": [
    "!kubectl apply -f mysql-deployment.yaml"
   ]
  },
  {
   "cell_type": "code",
   "execution_count": 11,
   "metadata": {},
   "outputs": [
    {
     "name": "stdout",
     "output_type": "stream",
     "text": [
      "service/wordpress created\n",
      "persistentvolumeclaim/wp-pv-claim created\n",
      "deployment.apps/wordpress created\n"
     ]
    }
   ],
   "source": [
    "!kubectl apply -f wordpress-deployment.yaml"
   ]
  },
  {
   "cell_type": "code",
   "execution_count": 12,
   "metadata": {},
   "outputs": [
    {
     "name": "stdout",
     "output_type": "stream",
     "text": [
      "NAME                               READY     STATUS    RESTARTS   AGE\r\n",
      "wordpress-6599c4d6bc-sxgjf         1/1       Running   0          10s\r\n",
      "wordpress-mysql-764f7c5f65-v4xnh   1/1       Running   0          52s\r\n"
     ]
    }
   ],
   "source": [
    "!kubectl get pods"
   ]
  },
  {
   "cell_type": "code",
   "execution_count": 13,
   "metadata": {},
   "outputs": [
    {
     "name": "stdout",
     "output_type": "stream",
     "text": [
      "apiVersion: v1\r\n",
      "kind: Service\r\n",
      "metadata:\r\n",
      "  name: wordpress\r\n",
      "  labels:\r\n",
      "    app: wordpress\r\n",
      "spec:\r\n",
      "  ports:\r\n",
      "    - port: 80\r\n",
      "  selector:\r\n",
      "    app: wordpress\r\n",
      "    tier: frontend\r\n",
      "  type: LoadBalancer\r\n",
      "---\r\n",
      "apiVersion: v1\r\n",
      "kind: PersistentVolumeClaim\r\n",
      "metadata:\r\n",
      "  name: wp-pv-claim\r\n",
      "  labels:\r\n",
      "    app: wordpress\r\n",
      "spec:\r\n",
      "  accessModes:\r\n",
      "    - ReadWriteOnce\r\n",
      "  resources:\r\n",
      "    requests:\r\n",
      "      storage: 20Gi\r\n",
      "---\r\n",
      "apiVersion: apps/v1beta2 # for versions before 1.8.0 use apps/v1beta1\r\n",
      "kind: Deployment\r\n",
      "metadata:\r\n",
      "  name: wordpress\r\n",
      "  labels:\r\n",
      "    app: wordpress\r\n",
      "spec:\r\n",
      "  selector:\r\n",
      "    matchLabels:\r\n",
      "      app: wordpress\r\n",
      "      tier: frontend\r\n",
      "  strategy:\r\n",
      "    type: Recreate\r\n",
      "  template:\r\n",
      "    metadata:\r\n",
      "      labels:\r\n",
      "        app: wordpress\r\n",
      "        tier: frontend\r\n",
      "    spec:\r\n",
      "      containers:\r\n",
      "      - image: wordpress:4.8-apache\r\n",
      "        name: wordpress\r\n",
      "        env:\r\n",
      "        - name: WORDPRESS_DB_HOST\r\n",
      "          value: wordpress-mysql\r\n",
      "        - name: WORDPRESS_DB_PASSWORD\r\n",
      "          value: PASSWORDS_IN_PLAIN_TEXT_ARE_BAD_WE_WILL_SHOW_SOMETHING_MORE_SECURE_LATER\r\n",
      "        ports:\r\n",
      "        - containerPort: 80\r\n",
      "          name: wordpress\r\n",
      "        volumeMounts:\r\n",
      "        - name: wordpress-persistent-storage\r\n",
      "          mountPath: /var/www/html\r\n",
      "      volumes:\r\n",
      "      - name: wordpress-persistent-storage\r\n",
      "        persistentVolumeClaim:\r\n",
      "          claimName: wp-pv-claim\r\n"
     ]
    }
   ],
   "source": [
    "!cat wordpress-deployment.yaml"
   ]
  },
  {
   "cell_type": "code",
   "execution_count": 14,
   "metadata": {},
   "outputs": [
    {
     "name": "stdout",
     "output_type": "stream",
     "text": [
      "apiVersion: v1\r\n",
      "kind: Service\r\n",
      "metadata:\r\n",
      "  name: wordpress-mysql\r\n",
      "  labels:\r\n",
      "    app: wordpress\r\n",
      "spec:\r\n",
      "  ports:\r\n",
      "    - port: 3306\r\n",
      "  selector:\r\n",
      "    app: wordpress\r\n",
      "    tier: mysql\r\n",
      "  clusterIP: None\r\n",
      "---\r\n",
      "apiVersion: v1\r\n",
      "kind: PersistentVolumeClaim\r\n",
      "metadata:\r\n",
      "  name: mysql-pv-claim\r\n",
      "  labels:\r\n",
      "    app: wordpress\r\n",
      "spec:\r\n",
      "  accessModes:\r\n",
      "    - ReadWriteOnce\r\n",
      "  resources:\r\n",
      "    requests:\r\n",
      "      storage: 20Gi\r\n",
      "---\r\n",
      "apiVersion: apps/v1beta2 # for versions before 1.8.0 use apps/v1beta1\r\n",
      "kind: Deployment\r\n",
      "metadata:\r\n",
      "  name: wordpress-mysql\r\n",
      "  labels:\r\n",
      "    app: wordpress\r\n",
      "spec:\r\n",
      "  selector:\r\n",
      "    matchLabels:\r\n",
      "      app: wordpress\r\n",
      "      tier: mysql\r\n",
      "  strategy:\r\n",
      "    type: Recreate\r\n",
      "  template:\r\n",
      "    metadata:\r\n",
      "      labels:\r\n",
      "        app: wordpress\r\n",
      "        tier: mysql\r\n",
      "    spec:\r\n",
      "      containers:\r\n",
      "      - image: mysql:5.6\r\n",
      "        name: mysql\r\n",
      "        env:\r\n",
      "        - name: MYSQL_ROOT_PASSWORD\r\n",
      "          value: PASSWORDS_IN_PLAIN_TEXT_ARE_BAD_WE_WILL_SHOW_SOMETHING_MORE_SECURE_LATER\r\n",
      "        ports:\r\n",
      "        - containerPort: 3306\r\n",
      "          name: mysql\r\n",
      "        volumeMounts:\r\n",
      "        - name: mysql-persistent-storage\r\n",
      "          mountPath: /var/lib/mysql\r\n",
      "      volumes:\r\n",
      "      - name: mysql-persistent-storage\r\n",
      "        persistentVolumeClaim:\r\n",
      "          claimName: mysql-pv-claim\r\n"
     ]
    }
   ],
   "source": [
    "!cat mysql-deployment.yaml"
   ]
  },
  {
   "cell_type": "code",
   "execution_count": 15,
   "metadata": {},
   "outputs": [
    {
     "name": "stdout",
     "output_type": "stream",
     "text": [
      "Stopping local Kubernetes cluster...\n",
      "Machine stopped.\n"
     ]
    }
   ],
   "source": [
    "!minikube stop"
   ]
  },
  {
   "cell_type": "code",
   "execution_count": 16,
   "metadata": {},
   "outputs": [
    {
     "name": "stdout",
     "output_type": "stream",
     "text": [
      "Starting local Kubernetes v1.10.0 cluster...\n",
      "Starting VM...\n",
      "Getting VM IP address...\n",
      "Moving files into cluster...\n",
      "Setting up certs...\n",
      "Connecting to cluster...\n",
      "Setting up kubeconfig...\n",
      "Starting cluster components...\n",
      "Kubectl is now configured to use the cluster.\n",
      "Loading cached images from config file.\n"
     ]
    }
   ],
   "source": [
    "!minikube start"
   ]
  },
  {
   "cell_type": "code",
   "execution_count": 17,
   "metadata": {},
   "outputs": [
    {
     "name": "stdout",
     "output_type": "stream",
     "text": [
      "http://192.168.99.101:31138\r\n"
     ]
    }
   ],
   "source": [
    "!minikube service wordpress --url"
   ]
  },
  {
   "cell_type": "markdown",
   "metadata": {},
   "source": [
    "if we insert the following address in browser we can install wordpress"
   ]
  },
  {
   "cell_type": "markdown",
   "metadata": {},
   "source": [
    "<font color=red>Now our wordpress instance is up and running. We can delete the deployment after adding some content to it. If the create the deployment again, we dont loose the content from the last deployment, as we have used persistent volumes for both myaql and wordpress</font>"
   ]
  },
  {
   "cell_type": "markdown",
   "metadata": {},
   "source": [
    "#### Some of the commands learned in this notebook\n",
    "\n",
    "    kubectl create -f local-volumes.yaml\n",
    "    kubectl apply -f mysql-deployment.yaml\n",
    "    kubectl apply -f wordpress-deployment.yaml\n",
    "    minikube service wordpress --url"
   ]
  },
  {
   "cell_type": "markdown",
   "metadata": {},
   "source": [
    "#### Cleanup"
   ]
  },
  {
   "cell_type": "code",
   "execution_count": 1,
   "metadata": {},
   "outputs": [
    {
     "name": "stdout",
     "output_type": "stream",
     "text": [
      "service \"wordpress-mysql\" deleted\n",
      "persistentvolumeclaim \"mysql-pv-claim\" deleted\n",
      "deployment.apps \"wordpress-mysql\" deleted\n",
      "service \"wordpress\" deleted\n",
      "persistentvolumeclaim \"wp-pv-claim\" deleted\n",
      "deployment.apps \"wordpress\" deleted\n",
      "Stopping local Kubernetes cluster...\n",
      "Machine stopped.\n",
      "Starting local Kubernetes v1.10.0 cluster...\n",
      "Starting VM...\n",
      "Getting VM IP address...\n",
      "Moving files into cluster...\n",
      "Setting up certs...\n",
      "Connecting to cluster...\n",
      "Setting up kubeconfig...\n",
      "Starting cluster components...\n",
      "Kubectl is now configured to use the cluster.\n",
      "Loading cached images from config file.\n"
     ]
    }
   ],
   "source": [
    "%%bash\n",
    "kubectl delete -f ./mysql-deployment.yaml\n",
    "kubectl delete -f ./wordpress-deployment.yaml\n",
    "minikube stop\n",
    "minikube start"
   ]
  },
  {
   "cell_type": "code",
   "execution_count": null,
   "metadata": {},
   "outputs": [],
   "source": []
  }
 ],
 "metadata": {
  "kernelspec": {
   "display_name": "Python 3",
   "language": "python",
   "name": "python3"
  },
  "language_info": {
   "codemirror_mode": {
    "name": "ipython",
    "version": 3
   },
   "file_extension": ".py",
   "mimetype": "text/x-python",
   "name": "python",
   "nbconvert_exporter": "python",
   "pygments_lexer": "ipython3",
   "version": "3.6.5"
  }
 },
 "nbformat": 4,
 "nbformat_minor": 2
}
