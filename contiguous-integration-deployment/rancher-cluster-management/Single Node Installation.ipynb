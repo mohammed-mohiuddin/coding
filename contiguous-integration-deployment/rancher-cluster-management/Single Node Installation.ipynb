{
 "cells": [
  {
   "cell_type": "markdown",
   "metadata": {},
   "source": [
    "### Step 1: Prepare a Linux Host\n",
    "Prepare a Linux host with 64-bit Ubuntu 16.04, at least 4GB of memory. Install a supported version of Docker on the host, supported Docker versions are 1.12.6, 1.13.1 or 17.03.2. To install Docker on the server, follow the instructions from Docker."
   ]
  },
  {
   "cell_type": "markdown",
   "metadata": {},
   "source": [
    "### Step 2: Start the server\n",
    "To install and run Rancher server, execute the following Docker command on your host:\n",
    "\n",
    "$ sudo docker run -d --restart=unless-stopped -p 80:80 -p 443:443 rancher/rancher\n",
    "\n",
    "It takes less than a minute for the Rancher server to start up. The Rancher user interface can be accessed at https://<server_ip>. Once Rancher has successfully been installed, the user interface will guide you through adding your first cluster."
   ]
  },
  {
   "cell_type": "markdown",
   "metadata": {},
   "source": [
    "### Hetzner Rancher ui driver"
   ]
  },
  {
   "cell_type": "markdown",
   "metadata": {},
   "source": [
    "Add a Machine Driver in Rancher 2 (Global -> Node Drivers)\n",
    "\n",
    "Download URL: https://github.com/JonasProgrammer/docker-machine-driver-hetzner/releases/download/1.2.0/docker-machine-driver-hetzner_1.2.0_linux_amd64.tar.gz\n",
    "\n",
    "Custom UI URL: https://storage.googleapis.com/hcloud-rancher-v2-ui-driver/component.js\n",
    "\n",
    "Whitelist Domains: storage.googleapis.com. Wait for the driver to become \"Active\"\n",
    "Go to Clusters -> Add Cluster, your driver and custom UI should show up."
   ]
  },
  {
   "cell_type": "code",
   "execution_count": null,
   "metadata": {},
   "outputs": [],
   "source": []
  }
 ],
 "metadata": {
  "kernelspec": {
   "display_name": "Python 3",
   "language": "python",
   "name": "python3"
  },
  "language_info": {
   "codemirror_mode": {
    "name": "ipython",
    "version": 3
   },
   "file_extension": ".py",
   "mimetype": "text/x-python",
   "name": "python",
   "nbconvert_exporter": "python",
   "pygments_lexer": "ipython3",
   "version": "3.6.5"
  }
 },
 "nbformat": 4,
 "nbformat_minor": 2
}
