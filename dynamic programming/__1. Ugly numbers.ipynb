{
 "cells": [
  {
   "cell_type": "code",
   "execution_count": 1,
   "metadata": {},
   "outputs": [],
   "source": [
    "def get_next_uglynumber(no):\n",
    "    uglynumber2 = 2\n",
    "    uglynumber3 = 3\n",
    "    uglynumber5 = 5\n",
    "    temp = uglynumber.str(no)\n",
    "    temp = temp * no\n",
    "    yield temp"
   ]
  },
  {
   "cell_type": "code",
   "execution_count": null,
   "metadata": {},
   "outputs": [],
   "source": [
    "def find_ugly_number(n):\n",
    "    ugly_numbers = [1] * n\n",
    "    no2_uglynumber = 2\n",
    "    no3_uglynumber = 3\n",
    "    no5_uglynumber = 5\n",
    "    no2_index = no3_index = no5_index = 1\n",
    "    ugly_numbers[0] = 1\n",
    "    for i in range(1, n):\n",
    "        val = min(ugly_numbers[no2_index], ugly_numbers[no3_index], ugly_numbers[no5_index])\n",
    "        ugly_numbers[i] = val\n",
    "        if val = ugly_numbers[no2_index]:\n",
    "            no2_index = no2_index + 1\n",
    "            ug2[no2_index] = val * 2\n",
    "        if val = ugly_numbers[no3_index]:\n",
    "            no3_index = no3_index + 1\n",
    "        if val = ugly_numbers[no5_index]:\n",
    "            no5_index = no5_index + 1"
   ]
  },
  {
   "cell_type": "code",
   "execution_count": 5,
   "metadata": {},
   "outputs": [
    {
     "name": "stdout",
     "output_type": "stream",
     "text": [
      "<generator object get_next_uglynumber at 0x10d102410>\n",
      "<generator object get_next_uglynumber at 0x10d161570>\n",
      "<generator object get_next_uglynumber at 0x10d102410>\n",
      "<generator object get_next_uglynumber at 0x10d161570>\n",
      "<generator object get_next_uglynumber at 0x10d102410>\n",
      "<generator object get_next_uglynumber at 0x10d161570>\n"
     ]
    }
   ],
   "source": [
    "for i in [2,3,5,2,3,5]:\n",
    "    x = get_next_uglynumber(i)\n",
    "    print(x.)"
   ]
  },
  {
   "cell_type": "code",
   "execution_count": null,
   "metadata": {},
   "outputs": [],
   "source": []
  }
 ],
 "metadata": {
  "kernelspec": {
   "display_name": "Python 3",
   "language": "python",
   "name": "python3"
  },
  "language_info": {
   "codemirror_mode": {
    "name": "ipython",
    "version": 3
   },
   "file_extension": ".py",
   "mimetype": "text/x-python",
   "name": "python",
   "nbconvert_exporter": "python",
   "pygments_lexer": "ipython3",
   "version": "3.6.5"
  }
 },
 "nbformat": 4,
 "nbformat_minor": 2
}
