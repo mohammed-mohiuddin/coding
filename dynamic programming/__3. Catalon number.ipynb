{
 "cells": [
  {
   "cell_type": "markdown",
   "metadata": {},
   "source": [
    "Catalon Numbers: The catalon numbers for n = 1, 2, 3 .. are 1 1 2 5 14 42 132 429 1430 4862 "
   ]
  },
  {
   "cell_type": "markdown",
   "metadata": {},
   "source": [
    "\\begin{equation*}\n",
    "C_{n+1} = \\sum_{i=0}^n C_i * C_{n-i} \n",
    "\\end{equation*}\n",
    "or\n",
    "\\begin{equation*}\n",
    "C_{n} = \\sum_{i=0}^{n-1} C_i * C_{n-i-1} \n",
    "\\end{equation*}\n",
    "where n is greater than or equal to zero"
   ]
  },
  {
   "cell_type": "code",
   "execution_count": 16,
   "metadata": {
    "collapsed": true
   },
   "outputs": [],
   "source": [
    "def catalon_number(n):\n",
    "    cat = [1] * (n + 1)  # We don't need to intialize cat[0] and cat[1] to 1, as the default values are 1.\n",
    "    # In the for loop we are changing the initialized values to zero again\n",
    "    for i in range(2, n+1):\n",
    "        cat[i] = 0\n",
    "        for j in range(i):\n",
    "            cat[i] = cat[i] + cat[j] * cat[i - j - 1]\n",
    "    return cat[n]"
   ]
  },
  {
   "cell_type": "code",
   "execution_count": 17,
   "metadata": {
    "collapsed": true
   },
   "outputs": [],
   "source": [
    "def catalon_number_2(n):\n",
    "    cat = [0 for x in range(n+1)]\n",
    "    cat[0] = 1\n",
    "    if n > 0:\n",
    "        cat[1] = 1\n",
    "    for i in range(2, n+1):\n",
    "        for j in range(i):\n",
    "            cat[i] = cat[i] + cat[j] * cat[i - j - 1]\n",
    "    return cat[n]"
   ]
  },
  {
   "cell_type": "code",
   "execution_count": 18,
   "metadata": {},
   "outputs": [
    {
     "name": "stdout",
     "output_type": "stream",
     "text": [
      "1\n",
      "1\n",
      "2\n",
      "5\n",
      "14\n",
      "42\n",
      "132\n",
      "429\n",
      "1430\n",
      "4862\n"
     ]
    }
   ],
   "source": [
    "for i in range(10):\n",
    "    print(catalon_number(i))"
   ]
  },
  {
   "cell_type": "code",
   "execution_count": 19,
   "metadata": {},
   "outputs": [
    {
     "name": "stdout",
     "output_type": "stream",
     "text": [
      "1\n",
      "1\n",
      "2\n",
      "5\n",
      "14\n",
      "42\n",
      "132\n",
      "429\n",
      "1430\n",
      "4862\n"
     ]
    }
   ],
   "source": [
    "for i in range(10):\n",
    "    print(catalon_number_2(i))"
   ]
  },
  {
   "cell_type": "code",
   "execution_count": null,
   "metadata": {
    "collapsed": true
   },
   "outputs": [],
   "source": []
  }
 ],
 "metadata": {
  "kernelspec": {
   "display_name": "Python 3",
   "language": "python",
   "name": "python3"
  },
  "language_info": {
   "codemirror_mode": {
    "name": "ipython",
    "version": 3
   },
   "file_extension": ".py",
   "mimetype": "text/x-python",
   "name": "python",
   "nbconvert_exporter": "python",
   "pygments_lexer": "ipython3",
   "version": "3.6.6"
  }
 },
 "nbformat": 4,
 "nbformat_minor": 2
}
