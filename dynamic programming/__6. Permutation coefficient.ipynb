{
 "cells": [
  {
   "cell_type": "code",
   "execution_count": 12,
   "metadata": {},
   "outputs": [],
   "source": [
    "def permutationCoeff(n, k):\n",
    "    fact = [0 for i in range(n + 1)]\n",
    " \n",
    "    # base case\n",
    "    fact[0] = 1\n",
    " \n",
    "    # Calculate value \n",
    "    # factorials up to n\n",
    "    for i in range(1, n + 1):\n",
    "        fact[i] = i * fact[i - 1]\n",
    " \n",
    "    # P(n, k) = n!/(n-k)!\n",
    "    return int(fact[n] / fact[n - k])"
   ]
  },
  {
   "cell_type": "code",
   "execution_count": 13,
   "metadata": {},
   "outputs": [
    {
     "name": "stdout",
     "output_type": "stream",
     "text": [
      "Value of P(10, 2) is 90\n"
     ]
    }
   ],
   "source": [
    "n = 10\n",
    "k = 2\n",
    "print(\"Value of P(\", n, \", \", k, \") is \",\n",
    "        permutationCoeff(n, k), sep = \"\")"
   ]
  },
  {
   "cell_type": "code",
   "execution_count": null,
   "metadata": {
    "collapsed": true
   },
   "outputs": [],
   "source": []
  }
 ],
 "metadata": {
  "kernelspec": {
   "display_name": "Python 3",
   "language": "python",
   "name": "python3"
  },
  "language_info": {
   "codemirror_mode": {
    "name": "ipython",
    "version": 3
   },
   "file_extension": ".py",
   "mimetype": "text/x-python",
   "name": "python",
   "nbconvert_exporter": "python",
   "pygments_lexer": "ipython3",
   "version": "3.6.6"
  }
 },
 "nbformat": 4,
 "nbformat_minor": 2
}
