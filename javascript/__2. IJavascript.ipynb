{
 "cells": [
  {
   "cell_type": "markdown",
   "metadata": {},
   "source": [
    "### html"
   ]
  },
  {
   "cell_type": "code",
   "execution_count": 10,
   "metadata": {},
   "outputs": [
    {
     "data": {
      "text/html": [
       "<div id = 'element'>Hello</div>"
      ]
     },
     "execution_count": 10,
     "metadata": {},
     "output_type": "execute_result"
    }
   ],
   "source": [
    "element = \"<div id = 'element'>Hello</div>\"\n",
    "$$.html(element)"
   ]
  },
  {
   "cell_type": "markdown",
   "metadata": {},
   "source": [
    "### javascript global object"
   ]
  },
  {
   "cell_type": "code",
   "execution_count": 11,
   "metadata": {},
   "outputs": [
    {
     "data": {
      "text/plain": [
       "'Hello, World!'"
      ]
     },
     "execution_count": 11,
     "metadata": {},
     "output_type": "execute_result"
    }
   ],
   "source": [
    "(function() {\n",
    "    global.myGlobalProperty = \"Hello, World!\";\n",
    "})()\n",
    "global.myGlobalProperty;"
   ]
  },
  {
   "cell_type": "markdown",
   "metadata": {
    "collapsed": true
   },
   "source": [
    "### text output"
   ]
  },
  {
   "cell_type": "code",
   "execution_count": 12,
   "metadata": {
    "collapsed": true
   },
   "outputs": [],
   "source": [
    "var msg = \"Hello Mohiuddin\""
   ]
  },
  {
   "cell_type": "code",
   "execution_count": 15,
   "metadata": {},
   "outputs": [
    {
     "data": {
      "text/plain": [
       "'Hello Mohiuddin'"
      ]
     },
     "execution_count": 15,
     "metadata": {},
     "output_type": "execute_result"
    }
   ],
   "source": [
    "msg"
   ]
  },
  {
   "cell_type": "code",
   "execution_count": 13,
   "metadata": {},
   "outputs": [
    {
     "name": "stdout",
     "output_type": "stream",
     "text": [
      "Hello Mohiuddin\n"
     ]
    }
   ],
   "source": [
    "console.log(msg)"
   ]
  },
  {
   "cell_type": "code",
   "execution_count": 14,
   "metadata": {},
   "outputs": [
    {
     "name": "stderr",
     "output_type": "stream",
     "text": [
      "Hello Mohiuddin\n"
     ]
    }
   ],
   "source": [
    "console.error(msg)"
   ]
  },
  {
   "cell_type": "markdown",
   "metadata": {},
   "source": [
    "### asynchronous output"
   ]
  },
  {
   "cell_type": "code",
   "execution_count": 34,
   "metadata": {},
   "outputs": [],
   "source": [
    "// normal function\n",
    "function sayHello()\n",
    "{\n",
    "    console.log(\"Hello World!\");\n",
    "};"
   ]
  },
  {
   "cell_type": "code",
   "execution_count": 35,
   "metadata": {},
   "outputs": [
    {
     "name": "stdout",
     "output_type": "stream",
     "text": [
      "1535803113251\n",
      "Hello World!\n",
      "1535803113252\n"
     ]
    }
   ],
   "source": [
    "//synchronous output\n",
    "console.log((new Date()).getTime());\n",
    "sayHello();\n",
    "console.log((new Date()).getTime());"
   ]
  },
  {
   "cell_type": "code",
   "execution_count": 36,
   "metadata": {},
   "outputs": [
    {
     "name": "stdout",
     "output_type": "stream",
     "text": [
      "1535803113785\n",
      "1535803113785\n",
      "Hello World!\n"
     ]
    }
   ],
   "source": [
    "//asynchronous output\n",
    "console.log((new Date()).getTime());\n",
    "var t = setTimeout(sayHello, 1000);\n",
    "console.log((new Date()).getTime());"
   ]
  },
  {
   "cell_type": "markdown",
   "metadata": {},
   "source": [
    "### running asynchronous code"
   ]
  },
  {
   "cell_type": "markdown",
   "metadata": {},
   "source": [
    "    $$.async(): makes the cell asynchronous\n",
    "result: Use one of the sendResult, sendErrror or done methods of the $$ global object to return the result of the execution"
   ]
  },
  {
   "cell_type": "code",
   "execution_count": 1,
   "metadata": {},
   "outputs": [
    {
     "name": "stdout",
     "output_type": "stream",
     "text": [
      "This is as asynchronous cell and we are copying the results in a variable\n"
     ]
    },
    {
     "data": {
      "text/plain": [
       "'Fuck! you, go and get a life else wife'"
      ]
     },
     "execution_count": 1,
     "metadata": {},
     "output_type": "execute_result"
    }
   ],
   "source": [
    "$$.async();\n",
    "\n",
    "//create a cell to store all variable for this asynchronous cell\n",
    "var async_cell =\n",
    "{\n",
    "    $$: $$,\n",
    "    console: console\n",
    "};\n",
    "\n",
    "setTimeout(function()\n",
    "          {\n",
    "    async_cell.console.log(\"This is as asynchronous cell and we are copying the results in a variable\");\n",
    "    async_cell.$$.sendResult(\"Fuck! you, go and get a life else wife\");\n",
    "}, 1000);"
   ]
  },
  {
   "cell_type": "markdown",
   "metadata": {},
   "source": [
    "### packages"
   ]
  },
  {
   "cell_type": "code",
   "execution_count": 9,
   "metadata": {},
   "outputs": [],
   "source": [
    "var http = require('http')"
   ]
  },
  {
   "cell_type": "code",
   "execution_count": 10,
   "metadata": {
    "collapsed": true
   },
   "outputs": [],
   "source": [
    "var React = require('react')"
   ]
  },
  {
   "cell_type": "code",
   "execution_count": 11,
   "metadata": {
    "collapsed": true
   },
   "outputs": [],
   "source": [
    "var ReactDOM = require('react-dom')"
   ]
  }
 ],
 "metadata": {
  "kernelspec": {
   "display_name": "Javascript (Node.js)",
   "language": "javascript",
   "name": "javascript"
  },
  "language_info": {
   "file_extension": ".js",
   "mimetype": "application/javascript",
   "name": "javascript",
   "version": "8.9.3"
  }
 },
 "nbformat": 4,
 "nbformat_minor": 2
}
