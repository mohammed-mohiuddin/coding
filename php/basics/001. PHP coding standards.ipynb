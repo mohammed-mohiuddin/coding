{
 "cells": [
  {
   "cell_type": "markdown",
   "metadata": {},
   "source": [
    "### Coding standards"
   ]
  },
  {
   "cell_type": "markdown",
   "metadata": {
    "collapsed": true
   },
   "source": [
    "1. *DONT* use shorthand tags\n",
    "2. Use // or /* */ for single and multiline comments instead of #\n",
    "3. Use 4 spaces instead of tab as it is standard\n",
    "4. Leave one space between control keywords like if, while etc. and paranthesis\n",
    "5. There must be no space between function name and paranthesis\n",
    "6. Variable names:\n",
    "    * use lower case letters\n",
    "    * use _ to separate the words in a variable\n",
    "    * static variable names may be started with a s\n",
    "    * global variable names must start with a letter g\n",
    "    * use upper case letters to define global constants with _ as a separator\n",
    "7. Every block of code and curly braces must be aligned\n",
    "8. All functions and methods must limit themselves to one page"
   ]
  },
  {
   "cell_type": "code",
   "execution_count": null,
   "metadata": {},
   "outputs": [],
   "source": []
  }
 ],
 "metadata": {
  "kernelspec": {
   "display_name": "PHP",
   "language": "php",
   "name": "jupyter-php"
  },
  "language_info": {
   "file_extension": ".php",
   "mimetype": "text/x-php",
   "name": "PHP",
   "pygments_lexer": "PHP",
   "version": "7.2.7"
  }
 },
 "nbformat": 4,
 "nbformat_minor": 2
}
