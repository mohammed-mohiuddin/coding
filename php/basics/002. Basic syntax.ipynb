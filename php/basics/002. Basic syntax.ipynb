{
 "cells": [
  {
   "cell_type": "markdown",
   "metadata": {},
   "source": [
    "In order to be able to embed php in html, some tags need to be enabled. Out of these some are already enables except 4."
   ]
  },
  {
   "cell_type": "markdown",
   "metadata": {},
   "source": [
    "### Canonical/Standard php tag\n",
    "\n",
    "Syntax:\n",
    "\n",
    "    <?php ?>"
   ]
  },
  {
   "cell_type": "markdown",
   "metadata": {},
   "source": [
    "Example:\n",
    "\n",
    "    <?php\n",
    "    echo \"Hello world!\";\n",
    "    ?>"
   ]
  },
  {
   "cell_type": "markdown",
   "metadata": {},
   "source": [
    "### Short open tag (SGML)\n",
    "\n",
    "To use this short tag, short_open_tag needs to be set on in php.ini"
   ]
  },
  {
   "cell_type": "markdown",
   "metadata": {},
   "source": [
    "Syntax:\n",
    "\n",
    "    <?  ?>\n",
    "    \n",
    "Example:\n",
    "\n",
    "    <?\n",
    "    echo \"Hello world!\";\n",
    "    ?>"
   ]
  },
  {
   "cell_type": "markdown",
   "metadata": {},
   "source": [
    "### HTML Script Tags\n",
    "\n",
    "Example:\n",
    "\n",
    "    <script language=\"php\">\n",
    "    echo \"hello world!\";\n",
    "    </script>\n",
    "    \n",
    "<font color=red>Deprecated since php 7.0.0</font>"
   ]
  },
  {
   "cell_type": "markdown",
   "metadata": {},
   "source": [
    "### ASP style tags\n",
    "\n",
    "In php.ini configuration must be set, inorder to use this.\n",
    "\n",
    "Example:\n",
    "\n",
    "    <% \n",
    "    # Can only be written if setting is turned on\n",
    "    # to allow %\n",
    "    echo \"hello world\";\n",
    "    %>"
   ]
  },
  {
   "cell_type": "code",
   "execution_count": null,
   "metadata": {},
   "outputs": [],
   "source": []
  }
 ],
 "metadata": {
  "kernelspec": {
   "display_name": "PHP",
   "language": "php",
   "name": "jupyter-php"
  },
  "language_info": {
   "file_extension": ".php",
   "mimetype": "text/x-php",
   "name": "PHP",
   "pygments_lexer": "PHP",
   "version": "7.2.7"
  }
 },
 "nbformat": 4,
 "nbformat_minor": 2
}
