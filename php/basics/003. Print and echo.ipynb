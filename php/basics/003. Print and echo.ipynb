{
 "cells": [
  {
   "cell_type": "markdown",
   "metadata": {},
   "source": [
    "### echo"
   ]
  },
  {
   "cell_type": "markdown",
   "metadata": {},
   "source": [
    "1. echo is language construct, so no need to use parenthesis.\n",
    "2. paranthesis can be used, when more than one arguments need to be passed."
   ]
  },
  {
   "cell_type": "markdown",
   "metadata": {},
   "source": [
    "#### usages\n",
    "\n",
    "1. Displaying strings\n",
    "\n",
    "       echo \"Hello, This is a display string example!\";\n",
    "\n",
    "2. Dispalying strings as multiple string\n",
    "\n",
    "       echo \"Multiple \",\"argument \",\"string!\";\n",
    "       \n",
    "3. Displaying variables\n",
    "\n",
    "        //defining the variables\n",
    "        $text = \"Hello, World!\";\n",
    "        $num1 = 10;\n",
    "        $num2 = 20;\n",
    "        //echoing the variables\n",
    "        //echoing the variables\n",
    "        echo $text.\"\\n\";\n",
    "        echo $num1.\"+\".$num2.\"=\";\n",
    "        echo $num1 + $num2;"
   ]
  },
  {
   "cell_type": "markdown",
   "metadata": {},
   "source": [
    "### print"
   ]
  },
  {
   "cell_type": "markdown",
   "metadata": {},
   "source": [
    "#### usages\n",
    "\n",
    "1. Displaying strings\n",
    "\n",
    "       print \"Hello, This is a display string example!\";\n",
    "       \n",
    "2. Displaying variables\n",
    "\n",
    "        //defining the variables\n",
    "        $text = \"Hello, World!\";\n",
    "        $num1 = 10;\n",
    "        $num2 = 20;\n",
    "        //echoing the variables\n",
    "        //echoing the variables\n",
    "        print $text.\"\\n\";\n",
    "        print $num1.\"+\".$num2.\"=\";\n",
    "        print $num1 + $num2;"
   ]
  },
  {
   "cell_type": "markdown",
   "metadata": {},
   "source": [
    "### major differences between echo and print\n",
    "\n",
    "faster ? echo, since it is a language construct\n",
    "\n",
    "can take more than more argument ? yes echo"
   ]
  },
  {
   "cell_type": "code",
   "execution_count": null,
   "metadata": {},
   "outputs": [],
   "source": []
  }
 ],
 "metadata": {
  "kernelspec": {
   "display_name": "PHP",
   "language": "php",
   "name": "jupyter-php"
  },
  "language_info": {
   "file_extension": ".php",
   "mimetype": "text/x-php",
   "name": "PHP",
   "pygments_lexer": "PHP",
   "version": "7.2.7"
  }
 },
 "nbformat": 4,
 "nbformat_minor": 2
}
