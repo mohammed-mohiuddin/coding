{
 "cells": [
  {
   "cell_type": "markdown",
   "metadata": {},
   "source": [
    "These are specially-defined array variables in PHP that make it easy for you to get information about a request or its context. The superglobals are available throughout your script. These variables can be accessed from any function, class or any file without doing any special task such as declaring any global variable etc. They are mainly used to store and get information from one page to another etc in an application."
   ]
  },
  {
   "cell_type": "markdown",
   "metadata": {},
   "source": [
    "Below is the list of superglobal variables available in PHP:\n",
    "\n",
    "<font color=red>\n",
    "    \n",
    "1. \\$GLOBALS  \n",
    "\n",
    "2. \\$\\_SERVER  \n",
    "    \n",
    "3. \\$\\_REQUEST  \n",
    "\n",
    "4. \\$\\_GET  \n",
    "\n",
    "5. \\$\\_POST  \n",
    "\n",
    "6. \\$\\_SESSION  \n",
    "\n",
    "7. \\$\\_COOKIE  \n",
    "\n",
    "8. \\$\\_FILES  \n",
    "\n",
    "9. \\$\\_ENV  \n",
    "\n",
    "</font>"
   ]
  },
  {
   "cell_type": "markdown",
   "metadata": {},
   "source": [
    "### \\$GLOBAL\n",
    "\n",
    "It is a superglobal variable which is used to access global variables from anywhere in the PHP script. PHP stores all the global variables in array $GLOBALS[] it consist of an array which have an index that holds the global variable name, which can be accessed.\n",
    "\n",
    "        <?php\n",
    "        $x = 300;\n",
    "        $y = 200;\n",
    "\n",
    "        function multiplication(){\n",
    "            $GLOBALS['z'] = $GLOBALS['x'] * $GLOBALS['y'];\n",
    "        }\n",
    "\n",
    "        multiplication();\n",
    "        echo $z;\n",
    "        ?>"
   ]
  },
  {
   "cell_type": "markdown",
   "metadata": {},
   "source": [
    "### \\$\\_SERVER\n",
    "\n",
    "It is a PHP super global variable that stores the information about headers, paths and script locations. Some of these elements are used to get the information from the superglobal variable \\$\\_SERVER.\n",
    "\n",
    "        <?php\n",
    "        echo $_SERVER['PHP_SELF'];\n",
    "        echo \"<br>\";\n",
    "        echo $_SERVER['SERVER_NAME'];\n",
    "        echo \"<br>\";\n",
    "        echo $_SERVER['HTTP_HOST'];\n",
    "        echo \"<br>\";\n",
    "        echo $_SERVER['HTTP_USER_AGENT'];\n",
    "        echo \"<br>\";\n",
    "        echo $_SERVER['SCRIPT_NAME'];\n",
    "        echo \"<br>\"\n",
    "        ?>"
   ]
  },
  {
   "cell_type": "markdown",
   "metadata": {},
   "source": [
    "### \\$\\_REQUEST\n",
    "\n",
    "It is a superglobal variable which is used to collect the data after submitting a HTML form. \\$\\_REQUEST is not used mostly, because \\$\\_POST and \\$\\_GET perform the same task and are widely used.\n",
    "\n",
    "        <!DOCTYPE html>\n",
    "        <html>\n",
    "        <body>\n",
    "\n",
    "       <form method=\"post\" action=\"<?php echo \\$\\_SERVER['PHP\\_SELF'];?>\">\n",
    "         NAME: <input type=\"text\" name=\"fname\">\n",
    "         <button type=\"submit\">SUBMIT</button>\n",
    "       </form>\n",
    "        <?php\n",
    "        if ($_SERVER[\"REQUEST\\_METHOD\"] == \"POST\") {\n",
    "            $name = htmlspecialchars($_REQUEST['fname']);\n",
    "            if(empty($name)){\n",
    "                echo \"Name is empty\";\n",
    "            } else {\n",
    "                echo $name;\n",
    "            }\n",
    "        }\n",
    "        ?>\n",
    "        </body>\n",
    "        </html>\n",
    "        \n",
    "        \n",
    "In the above code we have created a form that takes the name as input from the user and prints it’s name on clicking of submit button. We transport the data accepted in the form to the same page using \\$\\_SERVER[‘PHP\\_SELF’] element as specified in the action attribute, because we manipulate the data in the same page using the PHP code. The data is retrieved using the \\$\\_REQUEST superglobal array variable"
   ]
  },
  {
   "cell_type": "markdown",
   "metadata": {},
   "source": [
    "### \\$\\_POST\n",
    "\n",
    "It is a super global variable used to collect data from the HTML form after submitting it. When form uses method post to transfer data, the data is not visible in the query string, because of which security levels are maintained in this method.\n",
    "\n",
    "\n",
    "        <!DOCTYPE html>\n",
    "        <html>\n",
    "        <body>\n",
    "\n",
    "        <form method=\"post\" action=\"<?php echo $_SERVER['PHP_SELF'];?>\">\n",
    "         <label for=\"name\">Please enter your name: </label>\n",
    "         <input name=\"name\" type=\"text\"><br>\n",
    "         <label for=\"age\">Please enter your age: </label>\n",
    "         <input name=\"age\" type=\"text\"><br>\n",
    "         <input type=\"submit\" value=\"Submit\">\n",
    "         <button type=\"submit\">SUBMIT</button>\n",
    "        </form>\n",
    "        <?php\n",
    "        $nm=$_POST['name'];\n",
    "        $age=$_POST['age'];\n",
    "        echo \"<strong>\".$nm.\" is $age years old.</strong>\";\n",
    "        ?>\n",
    "        </body>\n",
    "        </html>"
   ]
  },
  {
   "cell_type": "markdown",
   "metadata": {},
   "source": [
    "### \\$\\_GET\n",
    "\n",
    "\\$\\_GET is a super global variable used to collect data from the HTML form after submitting it. When form uses method get to transfer data, the data is visible in the query string, therefore the values are not hidden. \\$\\_GET super global array variable stores the values that come in the URL.\n",
    "\n",
    "\n",
    "        <!DOCTYPE html>\n",
    "        <html>\n",
    "        <head>\n",
    "        <title></title>\n",
    "        </head>\n",
    "        <body bgcolor=\"cyan\">    \n",
    "            <?php\n",
    "                $name = $_GET['name'];\n",
    "                $city = $_GET['city'];\n",
    "                echo \"<h1>This is \".$name.\" of \".$city.\"</h1><br>\";\n",
    "            ?>\n",
    "            <img src = \"2.jpg\" alt = \"nanilake\" height = \"400\" width=\"500\" />\n",
    "        </body>\n",
    "        </html>\n",
    "        \n",
    "        \n",
    "We are actually seeing half of the logic just now. In the above code we have created a hyperlink image of Nainital Lake which will take us to picture.php page and with it will also take the paramerters name=”Nainilake” and city=”Nainital”.\n",
    "That is when we click on the small image of Nainital Lake we will be taken to the next page picture.php along with the parameters. As the default method is get, these parameters will be passed to the next page using get method and they will be visible in the address bar. When we want to pass values to an address they are attached to the address using a question mark (?).\n",
    "Here the parameter name=Nainilake is attached to the address. If we want to add more values, we can add them using ampersand (&) after every key-value pair similarly as city=Nainital is added using ampersand after the name parameter. Now after clicking on the image of Nainital Lake we want the picture.php page to be displayed with the value of parameter displayed along with it."
   ]
  },
  {
   "cell_type": "code",
   "execution_count": null,
   "metadata": {},
   "outputs": [],
   "source": []
  }
 ],
 "metadata": {
  "kernelspec": {
   "display_name": "PHP",
   "language": "php",
   "name": "jupyter-php"
  },
  "language_info": {
   "file_extension": ".php",
   "mimetype": "text/x-php",
   "name": "PHP",
   "pygments_lexer": "PHP",
   "version": "7.2.7"
  }
 },
 "nbformat": 4,
 "nbformat_minor": 2
}
