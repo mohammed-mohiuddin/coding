{
 "cells": [
  {
   "cell_type": "markdown",
   "metadata": {},
   "source": [
    "    bitwise and           :    &\n",
    "    bitwise or            :    |\n",
    "    bitwise xor           :    ^\n",
    "    bitwise not           :    ~\n",
    "    bitwise left shift    :   <<\n",
    "    bitwise right shift   :   >>"
   ]
  },
  {
   "cell_type": "code",
   "execution_count": null,
   "metadata": {},
   "outputs": [],
   "source": []
  }
 ],
 "metadata": {
  "kernelspec": {
   "display_name": "PHP",
   "language": "php",
   "name": "jupyter-php"
  },
  "language_info": {
   "file_extension": ".php",
   "mimetype": "text/x-php",
   "name": "PHP",
   "pygments_lexer": "PHP",
   "version": "7.2.7"
  }
 },
 "nbformat": 4,
 "nbformat_minor": 2
}
