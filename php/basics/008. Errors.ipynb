{
 "cells": [
  {
   "cell_type": "markdown",
   "metadata": {},
   "source": [
    "### Parse error or Syntax Error\n",
    "It is the type of error done by the programmer in the source code of the program. The syntax error is caught by the compiler. After fixing the syntax error the compiler compile the code and execute it. Parse errors can be caused dues to unclosed quotes, missing or Extra parentheses, Unclosed braces, Missing semicolon etc\n",
    "Example\n",
    "\n",
    "    <?php\n",
    "        $x = \"geeks\";\n",
    "        y = \"Computer science\";\n",
    "        echo $x;\n",
    "        echo $y;\n",
    "    ?>"
   ]
  },
  {
   "cell_type": "markdown",
   "metadata": {},
   "source": [
    "### Fatal Error\n",
    "It is the type of error where PHP compiler understand the PHP code but it recognizes an undeclared function. This means that function is called without the definition of function.\n",
    "Example:\n",
    "\n",
    "\n",
    "        <?php\n",
    "\n",
    "        function add($x, $y)\n",
    "        {\n",
    "            $sum = $x + $y;\n",
    "            echo \"sum = \" . $sum;\n",
    "        }\n",
    "        $x = 0;\n",
    "        $y = 20;\n",
    "        add($x, $y);\n",
    "\n",
    "        diff($x, $y);\n",
    "        ?>"
   ]
  },
  {
   "cell_type": "markdown",
   "metadata": {},
   "source": [
    "### Warning Errors\n",
    "The main reason of warning errors are including a missing file. This means that the PHP function call the missing file.\n",
    "\n",
    "        <?php \n",
    "\n",
    "        $x = \"GeeksforGeeks\";\n",
    "\n",
    "        include (\"gfg.php\");\n",
    "\n",
    "        echo $x . \"Computer science portal\";\n",
    "        ?>\n"
   ]
  },
  {
   "cell_type": "markdown",
   "metadata": {},
   "source": [
    "### Notice Error\n",
    "It is similar to warning error. It means that the program contains something wrong but it allows the execution of script.\n",
    "\n",
    "        <?php \n",
    "\n",
    "        $x = \"GeeksforGeeks\";\n",
    "\n",
    "        echo $x;\n",
    "\n",
    "        echo $geeks;\n",
    "        ?>"
   ]
  },
  {
   "cell_type": "code",
   "execution_count": null,
   "metadata": {},
   "outputs": [],
   "source": []
  }
 ],
 "metadata": {
  "kernelspec": {
   "display_name": "PHP",
   "language": "php",
   "name": "jupyter-php"
  },
  "language_info": {
   "file_extension": ".php",
   "mimetype": "text/x-php",
   "name": "PHP",
   "pygments_lexer": "PHP",
   "version": "7.2.7"
  }
 },
 "nbformat": 4,
 "nbformat_minor": 2
}
