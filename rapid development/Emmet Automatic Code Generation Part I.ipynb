{
 "cells": [
  {
   "cell_type": "markdown",
   "metadata": {},
   "source": [
    "Emmer plugin can be added to most of the editors as a plugin. So it is good skill to master as one can use it irrespective of the editor."
   ]
  },
  {
   "cell_type": "markdown",
   "metadata": {},
   "source": [
    "### Simple Elements"
   ]
  },
  {
   "cell_type": "code",
   "execution_count": null,
   "metadata": {},
   "outputs": [],
   "source": [
    "div\n",
    "<div></div>\n",
    "\n",
    "header\n",
    "<header></header>\n",
    "\n",
    "randomtext\n",
    "<randomtext></randomtext>"
   ]
  },
  {
   "cell_type": "markdown",
   "metadata": {},
   "source": [
    "### Child Operator or Nesting Operator (>)"
   ]
  },
  {
   "cell_type": "code",
   "execution_count": null,
   "metadata": {},
   "outputs": [],
   "source": [
    "div>p\n",
    "<div>\n",
    "    <p></p>\n",
    "</div>"
   ]
  },
  {
   "cell_type": "markdown",
   "metadata": {},
   "source": [
    "### Siblings Operator (+)"
   ]
  },
  {
   "cell_type": "code",
   "execution_count": null,
   "metadata": {},
   "outputs": [],
   "source": [
    "div>p+p\n",
    "<div>\n",
    "    <p></p>\n",
    "    <p></p>\n",
    "</div>\n",
    "\n",
    "\n",
    "\n",
    "div>p+a+div\n",
    "<div>\n",
    "    <p></p>\n",
    "    <a href=\"\"></a>\n",
    "    <div></div>\n",
    "</div>"
   ]
  },
  {
   "cell_type": "markdown",
   "metadata": {},
   "source": [
    "### Climb Operator (^)"
   ]
  },
  {
   "cell_type": "code",
   "execution_count": null,
   "metadata": {},
   "outputs": [],
   "source": [
    "section>figure>img+figcaption^aside\n",
    "<section>\n",
    "    <figure><img src=\"\" alt=\"\">\n",
    "        <figcaption></figcaption>\n",
    "    </figure>\n",
    "    <aside></aside>\n",
    "</section>\n",
    "\n",
    "\n",
    "section>figure>img+figcaption^^aside\n",
    "<section>\n",
    "    <figure><img src=\"\" alt=\"\">\n",
    "        <figcaption></figcaption>\n",
    "    </figure>\n",
    "</section>\n",
    "<aside></aside>"
   ]
  },
  {
   "cell_type": "markdown",
   "metadata": {},
   "source": [
    "### Multiplication Operator"
   ]
  },
  {
   "cell_type": "code",
   "execution_count": null,
   "metadata": {},
   "outputs": [],
   "source": [
    "div>p*7\n",
    "<div>\n",
    "    <p></p>\n",
    "    <p></p>\n",
    "    <p></p>\n",
    "    <p></p>\n",
    "    <p></p>\n",
    "    <p></p>\n",
    "    <p></p>\n",
    "</div>\n",
    "\n",
    "ul>li*5\n",
    "<ul>\n",
    "    <li></li>\n",
    "    <li></li>\n",
    "    <li></li>\n",
    "    <li></li>\n",
    "    <li></li>\n",
    "</ul>\n",
    "\n",
    "\n",
    "\n",
    "ul>li*5>lorem\n",
    "<ul>\n",
    "    <li>Lorem ipsum dolor sit amet, consectetur adipisicing elit. \n",
    "    Asperiores eum excepturi inventore nesciunt numquam.\n",
    "        Aspernatur dolore iusto nemo odio, possimus suscipit totam ullam. \n",
    "        Excepturi expedita, itaque quidem saepe tempore ullam.\n",
    "    </li>\n",
    "    <li>Aliquam amet cupiditate deserunt et harum maxime necessitatibus, \n",
    "    optio similique sit velit. Adipisci blanditiis cum exercitationem\n",
    "    nihil numquam placeat veritatis! A id iste neque nesciunt quia \n",
    "    reiciendis rerum soluta ut.\n",
    "    </li>\n",
    "    <li>Architecto aut consectetur enim, esse est et fugiat, ipsum maxime \n",
    "    nihil placeat quas reprehenderit sit temporibus? Aspernatur aut cum \n",
    "    ea fugit in itaque iusto necessitatibus, non nostrum officiis \n",
    "    sed.\n",
    "    </li>\n",
    "    <li>Ad adipisci deserunt dolore, ea eos impedit nihil officia \n",
    "    quibusdam repellat sed suscipit tempora tenetur voluptate? \n",
    "    Accusantium, aspernatur eum expedita explicabo ipsam, iure nisi \n",
    "    perferendis quasi quos recusandae voluptates.\n",
    "    </li>\n",
    "    <li>Adipisci dolorem expedita maiores nihil tenetur? \n",
    "    Aut dicta ex ipsam iure quas. Accusamus animi aspernatur culpa\n",
    "        enim eos ex explicabo, illo impedit ipsum nam odio quibusdam, \n",
    "        sapiente soluta vero vitae.\n",
    "    </li>\n",
    "</ul>"
   ]
  },
  {
   "cell_type": "markdown",
   "metadata": {},
   "source": [
    "### Grouping Operator (\"()\")"
   ]
  },
  {
   "cell_type": "code",
   "execution_count": null,
   "metadata": {},
   "outputs": [],
   "source": [
    "section>figure(img+figcaption+span)+aside\n",
    "<section>\n",
    "    <figure><img src=\"\" alt=\"\">\n",
    "        <figcaption></figcaption>\n",
    "        <span></span></figure>\n",
    "    <aside></aside>\n",
    "</section>\n",
    "\n",
    "table>tr(th*3)\n",
    "<table>\n",
    "    <tr>\n",
    "        <th></th>\n",
    "        <th></th>\n",
    "        <th></th>\n",
    "    </tr>\n",
    "</table>\n",
    "\n",
    "table>tr>th*3\n",
    "<table>\n",
    "    <tr>\n",
    "        <th></th>\n",
    "        <th></th>\n",
    "        <th></th>\n",
    "    </tr>\n",
    "</table>\n",
    "\n",
    "table>tr(th*3)+tr(td*3)\n",
    "<table>\n",
    "    <tr>\n",
    "        <th></th>\n",
    "        <th></th>\n",
    "        <th></th>\n",
    "    </tr>\n",
    "    <tr>\n",
    "        <td></td>\n",
    "        <td></td>\n",
    "        <td></td>\n",
    "    </tr>\n",
    "</table>"
   ]
  },
  {
   "cell_type": "code",
   "execution_count": null,
   "metadata": {},
   "outputs": [],
   "source": []
  }
 ],
 "metadata": {
  "kernelspec": {
   "display_name": "Python 3",
   "language": "python",
   "name": "python3"
  },
  "language_info": {
   "codemirror_mode": {
    "name": "ipython",
    "version": 3
   },
   "file_extension": ".py",
   "mimetype": "text/x-python",
   "name": "python",
   "nbconvert_exporter": "python",
   "pygments_lexer": "ipython3",
   "version": "3.6.5"
  }
 },
 "nbformat": 4,
 "nbformat_minor": 2
}
