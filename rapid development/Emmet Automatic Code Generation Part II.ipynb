{
 "cells": [
  {
   "cell_type": "markdown",
   "metadata": {},
   "source": [
    "### Add class (.)"
   ]
  },
  {
   "cell_type": "code",
   "execution_count": null,
   "metadata": {},
   "outputs": [],
   "source": [
    "div.container\n",
    "<div class=\"container\"></div>\n",
    "\n",
    "div.box.box1\n",
    "<div class=\"box box1\"></div>"
   ]
  },
  {
   "cell_type": "markdown",
   "metadata": {},
   "source": [
    "### Add ids (#)"
   ]
  },
  {
   "cell_type": "code",
   "execution_count": null,
   "metadata": {},
   "outputs": [],
   "source": [
    "section#post\n",
    "<section id=\"post\"></section>\n",
    "\n",
    "\n",
    "<!--add id and class-->\n",
    "main#wrapper>div.post.post$\n",
    "<main id=\"wrapper\">\n",
    "    <div class=\"post post0\"></div>\n",
    "</main>\n",
    "\n",
    "main#wrapper>div.post.post$*3\n",
    "<main id=\"wrapper\">\n",
    "    <div class=\"post post1\"></div>\n",
    "    <div class=\"post post2\"></div>\n",
    "    <div class=\"post post3\"></div>\n",
    "</main>"
   ]
  },
  {
   "cell_type": "markdown",
   "metadata": {},
   "source": [
    "### Add custom attributes ([])"
   ]
  },
  {
   "cell_type": "code",
   "execution_count": null,
   "metadata": {},
   "outputs": [],
   "source": [
    "article#content>p[title=\"paragraph\" data-content=\"paragraph for demo\"]\n",
    "<article id=\"content\">\n",
    "    <p title=\"paragraph\" data-content=\"paragraph for demo\"></p>\n",
    "\n",
    "    form[id=\"myform\" action=\"#\" method=\"post\"]\n",
    "    <form action=\"#\" id=\"myform\" method=\"post\"></form>\n",
    "    \n",
    "    form\n",
    "    <form action=\"\"></form>\n",
    "</article>"
   ]
  },
  {
   "cell_type": "markdown",
   "metadata": {},
   "source": [
    "### Text operator({})"
   ]
  },
  {
   "cell_type": "code",
   "execution_count": null,
   "metadata": {},
   "outputs": [],
   "source": [
    "p{some text}\n",
    "<p>some text</p>\n",
    "\n",
    "p{some text}+em{emphasized text}\n",
    "<p>some text</p><em>emphasized text</em>"
   ]
  },
  {
   "cell_type": "markdown",
   "metadata": {},
   "source": [
    "### Numbering"
   ]
  },
  {
   "cell_type": "code",
   "execution_count": null,
   "metadata": {},
   "outputs": [],
   "source": [
    "div.div-0\n",
    "<div class=\"div-0\"></div>\n",
    "\n",
    "div.div-$\n",
    "<div class=\"div-0\"></div>\n",
    "\n",
    "div.div-$*5\n",
    "<div class=\"div-1\"></div>\n",
    "<div class=\"div-2\"></div>\n",
    "<div class=\"div-3\"></div>\n",
    "<div class=\"div-4\"></div>\n",
    "<div class=\"div-5\"></div>\n",
    "\n",
    "div.div-$*5>{$$$}\n",
    "<div class=\"div-1\">001</div>\n",
    "<div class=\"div-2\">002</div>\n",
    "<div class=\"div-3\">003</div>\n",
    "<div class=\"div-4\">004</div>\n",
    "<div class=\"div-5\">005</div>\n",
    "\n",
    "div.box-$*5\n",
    "<div class=\"box-1\"></div>\n",
    "<div class=\"box-2\"></div>\n",
    "<div class=\"box-3\"></div>\n",
    "<div class=\"box-4\"></div>\n",
    "<div class=\"box-5\"></div>"
   ]
  },
  {
   "cell_type": "markdown",
   "metadata": {},
   "source": [
    "### Reverse numbering"
   ]
  },
  {
   "cell_type": "code",
   "execution_count": null,
   "metadata": {},
   "outputs": [],
   "source": [
    "p.para-$@4*4\n",
    "<p class=\"para-4\"></p>\n",
    "<p class=\"para-5\"></p>\n",
    "<p class=\"para-6\"></p>\n",
    "<p class=\"para-7\"></p>\n",
    "\n",
    "p.para-$@-4*6\n",
    "<p class=\"para-9\"></p>\n",
    "<p class=\"para-8\"></p>\n",
    "<p class=\"para-7\"></p>\n",
    "<p class=\"para-6\"></p>\n",
    "<p class=\"para-5\"></p>\n",
    "<p class=\"para-4\"></p>"
   ]
  },
  {
   "cell_type": "markdown",
   "metadata": {},
   "source": [
    "### Automatic element guessing"
   ]
  },
  {
   "cell_type": "code",
   "execution_count": null,
   "metadata": {},
   "outputs": [],
   "source": [
    "ul.list>.list-$*5\n",
    "<ul class=\"list\">\n",
    "    <li class=\"list-1\"></li>\n",
    "    <li class=\"list-2\"></li>\n",
    "    <li class=\"list-3\"></li>\n",
    "    <li class=\"list-4\"></li>\n",
    "    <li class=\"list-5\"></li>\n",
    "</ul>"
   ]
  },
  {
   "cell_type": "markdown",
   "metadata": {},
   "source": [
    "This is defined in the snippets.json file defined in the plugin directory of emmet"
   ]
  },
  {
   "cell_type": "markdown",
   "metadata": {},
   "source": [
    "snippets.json can be edited to add or modify different elements and their default attributes. Long list code can be grnerated using abrreviations. Abbreviations again can use elements to define their own behavior."
   ]
  },
  {
   "cell_type": "code",
   "execution_count": null,
   "metadata": {},
   "outputs": [],
   "source": []
  }
 ],
 "metadata": {
  "kernelspec": {
   "display_name": "Python 3",
   "language": "python",
   "name": "python3"
  },
  "language_info": {
   "codemirror_mode": {
    "name": "ipython",
    "version": 3
   },
   "file_extension": ".py",
   "mimetype": "text/x-python",
   "name": "python",
   "nbconvert_exporter": "python",
   "pygments_lexer": "ipython3",
   "version": "3.6.5"
  }
 },
 "nbformat": 4,
 "nbformat_minor": 2
}
