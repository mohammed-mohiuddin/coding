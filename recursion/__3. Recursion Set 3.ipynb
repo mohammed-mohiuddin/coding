{
 "cells": [
  {
   "cell_type": "code",
   "execution_count": 7,
   "metadata": {},
   "outputs": [],
   "source": [
    "def printLowerTriangle(n):\n",
    "    if n<1:\n",
    "        return\n",
    "    printLowerTriangle(n-1)\n",
    "    for i in range(n):\n",
    "        print(\"* - {}\".format(n))"
   ]
  },
  {
   "cell_type": "code",
   "execution_count": 8,
   "metadata": {},
   "outputs": [
    {
     "name": "stdout",
     "output_type": "stream",
     "text": [
      "* - 1\n",
      "* - 2\n",
      "* - 2\n",
      "* - 3\n",
      "* - 3\n",
      "* - 3\n",
      "* - 4\n",
      "* - 4\n",
      "* - 4\n",
      "* - 4\n",
      "* - 5\n",
      "* - 5\n",
      "* - 5\n",
      "* - 5\n",
      "* - 5\n"
     ]
    }
   ],
   "source": [
    "printLowerTriangle(5)"
   ]
  },
  {
   "cell_type": "code",
   "execution_count": 14,
   "metadata": {},
   "outputs": [],
   "source": [
    "LIMIT = 24\n",
    "def printDouble(n):\n",
    "    if n<=0:\n",
    "        return\n",
    "    if n > LIMIT:\n",
    "        return\n",
    "    print(n)\n",
    "    printDouble(n*2)\n",
    "    print(n)"
   ]
  },
  {
   "cell_type": "code",
   "execution_count": 15,
   "metadata": {},
   "outputs": [
    {
     "name": "stdout",
     "output_type": "stream",
     "text": [
      "1\n",
      "2\n",
      "4\n",
      "8\n",
      "16\n",
      "16\n",
      "8\n",
      "4\n",
      "2\n",
      "1\n"
     ]
    }
   ],
   "source": [
    "printDouble(1)"
   ]
  },
  {
   "cell_type": "code",
   "execution_count": null,
   "metadata": {},
   "outputs": [],
   "source": []
  }
 ],
 "metadata": {
  "kernelspec": {
   "display_name": "Python 3",
   "language": "python",
   "name": "python3"
  },
  "language_info": {
   "codemirror_mode": {
    "name": "ipython",
    "version": 3
   },
   "file_extension": ".py",
   "mimetype": "text/x-python",
   "name": "python",
   "nbconvert_exporter": "python",
   "pygments_lexer": "ipython3",
   "version": "3.6.5"
  }
 },
 "nbformat": 4,
 "nbformat_minor": 2
}
