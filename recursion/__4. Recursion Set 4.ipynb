{
 "cells": [
  {
   "cell_type": "code",
   "execution_count": 4,
   "metadata": {},
   "outputs": [
    {
     "name": "stdout",
     "output_type": "stream",
     "text": [
      "1\n",
      "2\n",
      "1\n",
      "3\n",
      "1\n",
      "2\n",
      "1\n",
      "4\n",
      "1\n",
      "2\n",
      "1\n",
      "3\n",
      "1\n",
      "2\n",
      "1\n"
     ]
    }
   ],
   "source": [
    "def two_tail_example(n):\n",
    "    if n > 0:\n",
    "        two_tail_example(n-1)\n",
    "        print(n)\n",
    "        two_tail_example(n-1)\n",
    "        \n",
    "two_tail_example(4)"
   ]
  },
  {
   "cell_type": "code",
   "execution_count": 5,
   "metadata": {},
   "outputs": [],
   "source": [
    "def findMax(arr, n):\n",
    "    if n==1:\n",
    "        x = arr[0]\n",
    "    else:\n",
    "        x = findMax(arr, n-1)\n",
    "    if x > arr[n-1]:\n",
    "        return x\n",
    "    else:\n",
    "        return arr[n-1]"
   ]
  },
  {
   "cell_type": "code",
   "execution_count": 6,
   "metadata": {},
   "outputs": [
    {
     "data": {
      "text/plain": [
       "35"
      ]
     },
     "execution_count": 6,
     "metadata": {},
     "output_type": "execute_result"
    }
   ],
   "source": [
    "findMax([12, 14, 35, 18, 19], 5)"
   ]
  },
  {
   "cell_type": "code",
   "execution_count": null,
   "metadata": {},
   "outputs": [],
   "source": [
    "f(arr, 5) => x = 35, arr[4] = 19, return 35\n",
    "f(arr, 4) => x = 35, arr[3] = 18, return 35\n",
    "f(arr, 3) => x = 14, arr[2] = 35, return 35\n",
    "f(arr, 2) => x = 12, arr[1] = 14, return 14\n",
    "f(arr, 1) => x = 12, arr[n-1] = arr[0] = 12, return 12  "
   ]
  }
 ],
 "metadata": {
  "kernelspec": {
   "display_name": "Python 3",
   "language": "python",
   "name": "python3"
  },
  "language_info": {
   "codemirror_mode": {
    "name": "ipython",
    "version": 3
   },
   "file_extension": ".py",
   "mimetype": "text/x-python",
   "name": "python",
   "nbconvert_exporter": "python",
   "pygments_lexer": "ipython3",
   "version": "3.6.5"
  }
 },
 "nbformat": 4,
 "nbformat_minor": 2
}
