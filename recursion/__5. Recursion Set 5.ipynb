{
 "cells": [
  {
   "cell_type": "markdown",
   "metadata": {},
   "source": [
    "Problem: a*b"
   ]
  },
  {
   "cell_type": "code",
   "execution_count": 6,
   "metadata": {},
   "outputs": [],
   "source": [
    "def multiply(a, b):\n",
    "    if b == 0:\n",
    "        return 0\n",
    "    if b % 2 == 0:\n",
    "        return multiply(a + a, b//2)\n",
    "    return multiply(a + a, b//2) + a"
   ]
  },
  {
   "cell_type": "code",
   "execution_count": 7,
   "metadata": {},
   "outputs": [
    {
     "name": "stdout",
     "output_type": "stream",
     "text": [
      "5 X 1 = 5\n",
      "5 X 2 = 10\n",
      "5 X 3 = 15\n",
      "5 X 4 = 20\n",
      "5 X 5 = 25\n",
      "5 X 6 = 30\n",
      "5 X 7 = 35\n",
      "5 X 8 = 40\n",
      "5 X 9 = 45\n",
      "5 X 10 = 50\n"
     ]
    }
   ],
   "source": [
    "j = 5\n",
    "for i in range(1, 11):\n",
    "    var = \"{a} X {b} = {c}\".format(a=j,b=i,c=multiply(i, j))\n",
    "    print(var)"
   ]
  },
  {
   "cell_type": "markdown",
   "metadata": {},
   "source": [
    "Program: a^b"
   ]
  },
  {
   "cell_type": "code",
   "execution_count": 16,
   "metadata": {},
   "outputs": [],
   "source": [
    "def exponentiation2(a, b):\n",
    "    if b == 1:\n",
    "        return a\n",
    "    return a * exponentiation(a, b-1)"
   ]
  },
  {
   "cell_type": "code",
   "execution_count": 17,
   "metadata": {},
   "outputs": [],
   "source": [
    "def exponentiation(a, b):\n",
    "    if b == 1:\n",
    "        return a\n",
    "    if b % 2 == 0:\n",
    "        return exponentiation(a*a, b//2)\n",
    "    return exponentiation(a*a, b//2) * a"
   ]
  },
  {
   "cell_type": "code",
   "execution_count": 18,
   "metadata": {},
   "outputs": [
    {
     "name": "stdout",
     "output_type": "stream",
     "text": [
      "4\n",
      "9\n",
      "256\n",
      "25\n",
      "36\n"
     ]
    }
   ],
   "source": [
    "print(exponentiation(2,2))\n",
    "print(exponentiation(3,2))\n",
    "print(exponentiation(4,4))\n",
    "print(exponentiation(5,2))\n",
    "print(exponentiation(6,2))"
   ]
  },
  {
   "cell_type": "code",
   "execution_count": 19,
   "metadata": {},
   "outputs": [
    {
     "name": "stdout",
     "output_type": "stream",
     "text": [
      "4\n",
      "9\n",
      "256\n",
      "25\n",
      "36\n"
     ]
    }
   ],
   "source": [
    "print(exponentiation2(2,2))\n",
    "print(exponentiation2(3,2))\n",
    "print(exponentiation2(4,4))\n",
    "print(exponentiation2(5,2))\n",
    "print(exponentiation2(6,2))"
   ]
  },
  {
   "cell_type": "code",
   "execution_count": null,
   "metadata": {},
   "outputs": [],
   "source": []
  }
 ],
 "metadata": {
  "kernelspec": {
   "display_name": "Python 3",
   "language": "python",
   "name": "python3"
  },
  "language_info": {
   "codemirror_mode": {
    "name": "ipython",
    "version": 3
   },
   "file_extension": ".py",
   "mimetype": "text/x-python",
   "name": "python",
   "nbconvert_exporter": "python",
   "pygments_lexer": "ipython3",
   "version": "3.6.5"
  }
 },
 "nbformat": 4,
 "nbformat_minor": 2
}
